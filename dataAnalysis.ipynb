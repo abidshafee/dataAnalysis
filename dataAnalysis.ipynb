{
  "nbformat": 4,
  "nbformat_minor": 0,
  "metadata": {
    "colab": {
      "name": "dataAnalysis.ipynb",
      "provenance": [],
      "collapsed_sections": [],
      "authorship_tag": "ABX9TyN6EcjDUhIYEdOngaq+jIAm",
      "include_colab_link": true
    },
    "kernelspec": {
      "name": "python3",
      "display_name": "Python 3"
    }
  },
  "cells": [
    {
      "cell_type": "markdown",
      "metadata": {
        "id": "view-in-github",
        "colab_type": "text"
      },
      "source": [
        "<a href=\"https://colab.research.google.com/github/abidshafee/dataAnalysis/blob/master/dataAnalysis.ipynb\" target=\"_parent\"><img src=\"https://colab.research.google.com/assets/colab-badge.svg\" alt=\"Open In Colab\"/></a>"
      ]
    },
    {
      "cell_type": "markdown",
      "metadata": {
        "id": "1l8JMMgmIFHt",
        "colab_type": "text"
      },
      "source": [
        "# Data Analysis Mockup Project\n",
        "## What is Data Analysis\n",
        "#### It is a process of **Inspecting**, **Cleaning**, **transforming**, and **Modeling** Data with the goal of discovering useful information, informing conclusion, and supporting decision-makiing."
      ]
    },
    {
      "cell_type": "code",
      "metadata": {
        "id": "Qa9u6hpbju6j",
        "colab_type": "code",
        "colab": {
          "base_uri": "https://localhost:8080/",
          "height": 71
        },
        "outputId": "172ac261-112f-416a-e101-4d71d940752c"
      },
      "source": [
        "import pandas as pd\n",
        "import numpy as np\n",
        "import matplotlib.pyplot as plt\n",
        "# import datetime as dt\n",
        "import seaborn as sns\n",
        "# import pandas.util.testing as tm"
      ],
      "execution_count": 1,
      "outputs": [
        {
          "output_type": "stream",
          "text": [
            "/usr/local/lib/python3.6/dist-packages/statsmodels/tools/_testing.py:19: FutureWarning: pandas.util.testing is deprecated. Use the functions in the public API at pandas.testing instead.\n",
            "  import pandas.util.testing as tm\n"
          ],
          "name": "stderr"
        }
      ]
    },
    {
      "cell_type": "code",
      "metadata": {
        "id": "8oHjtvzVj394",
        "colab_type": "code",
        "colab": {
          "resources": {
            "http://localhost:8080/nbextensions/google.colab/files.js": {
              "data": "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",
              "ok": true,
              "headers": [
                [
                  "content-type",
                  "application/javascript"
                ]
              ],
              "status": 200,
              "status_text": ""
            }
          },
          "base_uri": "https://localhost:8080/",
          "height": 72
        },
        "outputId": "53ac8410-835a-4bd3-ff32-14d02ff98a92"
      },
      "source": [
        "from google.colab import files\n",
        "uploaded = files.upload()"
      ],
      "execution_count": null,
      "outputs": [
        {
          "output_type": "display_data",
          "data": {
            "text/html": [
              "\n",
              "     <input type=\"file\" id=\"files-458cc996-a99e-40b7-ae9d-99f4f4c0cb00\" name=\"files[]\" multiple disabled\n",
              "        style=\"border:none\" />\n",
              "     <output id=\"result-458cc996-a99e-40b7-ae9d-99f4f4c0cb00\">\n",
              "      Upload widget is only available when the cell has been executed in the\n",
              "      current browser session. Please rerun this cell to enable.\n",
              "      </output>\n",
              "      <script src=\"/nbextensions/google.colab/files.js\"></script> "
            ],
            "text/plain": [
              "<IPython.core.display.HTML object>"
            ]
          },
          "metadata": {
            "tags": []
          }
        },
        {
          "output_type": "stream",
          "text": [
            "Saving superstore_dataset2011-2015.csv to superstore_dataset2011-2015.csv\n"
          ],
          "name": "stdout"
        }
      ]
    },
    {
      "cell_type": "code",
      "metadata": {
        "id": "K7VMO1OkkLc5",
        "colab_type": "code",
        "colab": {}
      },
      "source": [
        "df = pd.read_csv('superstore_dataset2011-2015.csv', encoding = 'unicode_escape', index_col='Row ID', parse_dates=['Order Date', 'Ship Date'])\n",
        "# parsing Date Column as python Datetime formate"
      ],
      "execution_count": null,
      "outputs": []
    },
    {
      "cell_type": "code",
      "metadata": {
        "id": "chWLD9uIldCk",
        "colab_type": "code",
        "colab": {
          "base_uri": "https://localhost:8080/",
          "height": 281
        },
        "outputId": "2f5fa59e-9192-49d6-8f12-0c541deed17c"
      },
      "source": [
        "df.head(2)"
      ],
      "execution_count": null,
      "outputs": [
        {
          "output_type": "execute_result",
          "data": {
            "text/html": [
              "<div>\n",
              "<style scoped>\n",
              "    .dataframe tbody tr th:only-of-type {\n",
              "        vertical-align: middle;\n",
              "    }\n",
              "\n",
              "    .dataframe tbody tr th {\n",
              "        vertical-align: top;\n",
              "    }\n",
              "\n",
              "    .dataframe thead th {\n",
              "        text-align: right;\n",
              "    }\n",
              "</style>\n",
              "<table border=\"1\" class=\"dataframe\">\n",
              "  <thead>\n",
              "    <tr style=\"text-align: right;\">\n",
              "      <th></th>\n",
              "      <th>Order ID</th>\n",
              "      <th>Order Date</th>\n",
              "      <th>Ship Date</th>\n",
              "      <th>Ship Mode</th>\n",
              "      <th>Customer ID</th>\n",
              "      <th>Customer Name</th>\n",
              "      <th>Segment</th>\n",
              "      <th>City</th>\n",
              "      <th>State</th>\n",
              "      <th>Country</th>\n",
              "      <th>Postal Code</th>\n",
              "      <th>Market</th>\n",
              "      <th>Region</th>\n",
              "      <th>Product ID</th>\n",
              "      <th>Category</th>\n",
              "      <th>Sub-Category</th>\n",
              "      <th>Product Name</th>\n",
              "      <th>Sales</th>\n",
              "      <th>Quantity</th>\n",
              "      <th>Discount</th>\n",
              "      <th>Profit</th>\n",
              "      <th>Shipping Cost</th>\n",
              "      <th>Order Priority</th>\n",
              "    </tr>\n",
              "    <tr>\n",
              "      <th>Row ID</th>\n",
              "      <th></th>\n",
              "      <th></th>\n",
              "      <th></th>\n",
              "      <th></th>\n",
              "      <th></th>\n",
              "      <th></th>\n",
              "      <th></th>\n",
              "      <th></th>\n",
              "      <th></th>\n",
              "      <th></th>\n",
              "      <th></th>\n",
              "      <th></th>\n",
              "      <th></th>\n",
              "      <th></th>\n",
              "      <th></th>\n",
              "      <th></th>\n",
              "      <th></th>\n",
              "      <th></th>\n",
              "      <th></th>\n",
              "      <th></th>\n",
              "      <th></th>\n",
              "      <th></th>\n",
              "      <th></th>\n",
              "    </tr>\n",
              "  </thead>\n",
              "  <tbody>\n",
              "    <tr>\n",
              "      <th>42433</th>\n",
              "      <td>AG-2011-2040</td>\n",
              "      <td>2011-01-01</td>\n",
              "      <td>2011-06-01</td>\n",
              "      <td>Standard Class</td>\n",
              "      <td>TB-11280</td>\n",
              "      <td>Toby Braunhardt</td>\n",
              "      <td>Consumer</td>\n",
              "      <td>Constantine</td>\n",
              "      <td>Constantine</td>\n",
              "      <td>Algeria</td>\n",
              "      <td>NaN</td>\n",
              "      <td>Africa</td>\n",
              "      <td>Africa</td>\n",
              "      <td>OFF-TEN-10000025</td>\n",
              "      <td>Office Supplies</td>\n",
              "      <td>Storage</td>\n",
              "      <td>Tenex Lockers, Blue</td>\n",
              "      <td>408.300</td>\n",
              "      <td>2</td>\n",
              "      <td>0.0</td>\n",
              "      <td>106.140</td>\n",
              "      <td>35.46</td>\n",
              "      <td>Medium</td>\n",
              "    </tr>\n",
              "    <tr>\n",
              "      <th>22253</th>\n",
              "      <td>IN-2011-47883</td>\n",
              "      <td>2011-01-01</td>\n",
              "      <td>2011-08-01</td>\n",
              "      <td>Standard Class</td>\n",
              "      <td>JH-15985</td>\n",
              "      <td>Joseph Holt</td>\n",
              "      <td>Consumer</td>\n",
              "      <td>Wagga Wagga</td>\n",
              "      <td>New South Wales</td>\n",
              "      <td>Australia</td>\n",
              "      <td>NaN</td>\n",
              "      <td>APAC</td>\n",
              "      <td>Oceania</td>\n",
              "      <td>OFF-SU-10000618</td>\n",
              "      <td>Office Supplies</td>\n",
              "      <td>Supplies</td>\n",
              "      <td>Acme Trimmer, High Speed</td>\n",
              "      <td>120.366</td>\n",
              "      <td>3</td>\n",
              "      <td>0.1</td>\n",
              "      <td>36.036</td>\n",
              "      <td>9.72</td>\n",
              "      <td>Medium</td>\n",
              "    </tr>\n",
              "  </tbody>\n",
              "</table>\n",
              "</div>"
            ],
            "text/plain": [
              "             Order ID Order Date  ... Shipping Cost Order Priority\n",
              "Row ID                            ...                             \n",
              "42433    AG-2011-2040 2011-01-01  ...         35.46         Medium\n",
              "22253   IN-2011-47883 2011-01-01  ...          9.72         Medium\n",
              "\n",
              "[2 rows x 23 columns]"
            ]
          },
          "metadata": {
            "tags": []
          },
          "execution_count": 5
        }
      ]
    },
    {
      "cell_type": "code",
      "metadata": {
        "id": "ADNckEIECDXu",
        "colab_type": "code",
        "colab": {}
      },
      "source": [
        "# Converting Order Date column to pandas datetime object\n",
        "# pd.to_datetime(df['Order Date'])"
      ],
      "execution_count": null,
      "outputs": []
    },
    {
      "cell_type": "code",
      "metadata": {
        "id": "_Boi9cMCFq0e",
        "colab_type": "code",
        "colab": {}
      },
      "source": [
        "# Now lets create Year column accessing year from Order date\n",
        "df['Year'] = df['Order Date'].dt.year"
      ],
      "execution_count": null,
      "outputs": []
    },
    {
      "cell_type": "code",
      "metadata": {
        "id": "mbF_9FRXarl9",
        "colab_type": "code",
        "colab": {
          "base_uri": "https://localhost:8080/",
          "height": 199
        },
        "outputId": "f5977ed5-fa73-4f00-82a1-99211f00f250"
      },
      "source": [
        "df.head(1)"
      ],
      "execution_count": null,
      "outputs": [
        {
          "output_type": "execute_result",
          "data": {
            "text/html": [
              "<div>\n",
              "<style scoped>\n",
              "    .dataframe tbody tr th:only-of-type {\n",
              "        vertical-align: middle;\n",
              "    }\n",
              "\n",
              "    .dataframe tbody tr th {\n",
              "        vertical-align: top;\n",
              "    }\n",
              "\n",
              "    .dataframe thead th {\n",
              "        text-align: right;\n",
              "    }\n",
              "</style>\n",
              "<table border=\"1\" class=\"dataframe\">\n",
              "  <thead>\n",
              "    <tr style=\"text-align: right;\">\n",
              "      <th></th>\n",
              "      <th>Order ID</th>\n",
              "      <th>Order Date</th>\n",
              "      <th>Ship Date</th>\n",
              "      <th>Ship Mode</th>\n",
              "      <th>Customer ID</th>\n",
              "      <th>Customer Name</th>\n",
              "      <th>Segment</th>\n",
              "      <th>City</th>\n",
              "      <th>State</th>\n",
              "      <th>Country</th>\n",
              "      <th>Postal Code</th>\n",
              "      <th>Market</th>\n",
              "      <th>Region</th>\n",
              "      <th>Product ID</th>\n",
              "      <th>Category</th>\n",
              "      <th>Sub-Category</th>\n",
              "      <th>Product Name</th>\n",
              "      <th>Sales</th>\n",
              "      <th>Quantity</th>\n",
              "      <th>Discount</th>\n",
              "      <th>Profit</th>\n",
              "      <th>Shipping Cost</th>\n",
              "      <th>Order Priority</th>\n",
              "      <th>Year</th>\n",
              "    </tr>\n",
              "    <tr>\n",
              "      <th>Row ID</th>\n",
              "      <th></th>\n",
              "      <th></th>\n",
              "      <th></th>\n",
              "      <th></th>\n",
              "      <th></th>\n",
              "      <th></th>\n",
              "      <th></th>\n",
              "      <th></th>\n",
              "      <th></th>\n",
              "      <th></th>\n",
              "      <th></th>\n",
              "      <th></th>\n",
              "      <th></th>\n",
              "      <th></th>\n",
              "      <th></th>\n",
              "      <th></th>\n",
              "      <th></th>\n",
              "      <th></th>\n",
              "      <th></th>\n",
              "      <th></th>\n",
              "      <th></th>\n",
              "      <th></th>\n",
              "      <th></th>\n",
              "      <th></th>\n",
              "    </tr>\n",
              "  </thead>\n",
              "  <tbody>\n",
              "    <tr>\n",
              "      <th>42433</th>\n",
              "      <td>AG-2011-2040</td>\n",
              "      <td>2011-01-01</td>\n",
              "      <td>2011-06-01</td>\n",
              "      <td>Standard Class</td>\n",
              "      <td>TB-11280</td>\n",
              "      <td>Toby Braunhardt</td>\n",
              "      <td>Consumer</td>\n",
              "      <td>Constantine</td>\n",
              "      <td>Constantine</td>\n",
              "      <td>Algeria</td>\n",
              "      <td>NaN</td>\n",
              "      <td>Africa</td>\n",
              "      <td>Africa</td>\n",
              "      <td>OFF-TEN-10000025</td>\n",
              "      <td>Office Supplies</td>\n",
              "      <td>Storage</td>\n",
              "      <td>Tenex Lockers, Blue</td>\n",
              "      <td>408.3</td>\n",
              "      <td>2</td>\n",
              "      <td>0.0</td>\n",
              "      <td>106.14</td>\n",
              "      <td>35.46</td>\n",
              "      <td>Medium</td>\n",
              "      <td>2011</td>\n",
              "    </tr>\n",
              "  </tbody>\n",
              "</table>\n",
              "</div>"
            ],
            "text/plain": [
              "            Order ID Order Date  Ship Date  ... Shipping Cost Order Priority  Year\n",
              "Row ID                                      ...                                   \n",
              "42433   AG-2011-2040 2011-01-01 2011-06-01  ...         35.46         Medium  2011\n",
              "\n",
              "[1 rows x 24 columns]"
            ]
          },
          "metadata": {
            "tags": []
          },
          "execution_count": 8
        }
      ]
    },
    {
      "cell_type": "code",
      "metadata": {
        "id": "3eHl5uy-l11A",
        "colab_type": "code",
        "colab": {
          "base_uri": "https://localhost:8080/",
          "height": 591
        },
        "outputId": "259b1e66-b3e8-4b75-d0d8-aaa2c9ef4ec7"
      },
      "source": [
        "df.describe(include='all')"
      ],
      "execution_count": null,
      "outputs": [
        {
          "output_type": "execute_result",
          "data": {
            "text/html": [
              "<div>\n",
              "<style scoped>\n",
              "    .dataframe tbody tr th:only-of-type {\n",
              "        vertical-align: middle;\n",
              "    }\n",
              "\n",
              "    .dataframe tbody tr th {\n",
              "        vertical-align: top;\n",
              "    }\n",
              "\n",
              "    .dataframe thead th {\n",
              "        text-align: right;\n",
              "    }\n",
              "</style>\n",
              "<table border=\"1\" class=\"dataframe\">\n",
              "  <thead>\n",
              "    <tr style=\"text-align: right;\">\n",
              "      <th></th>\n",
              "      <th>Order ID</th>\n",
              "      <th>Order Date</th>\n",
              "      <th>Ship Date</th>\n",
              "      <th>Ship Mode</th>\n",
              "      <th>Customer ID</th>\n",
              "      <th>Customer Name</th>\n",
              "      <th>Segment</th>\n",
              "      <th>City</th>\n",
              "      <th>State</th>\n",
              "      <th>Country</th>\n",
              "      <th>Postal Code</th>\n",
              "      <th>Market</th>\n",
              "      <th>Region</th>\n",
              "      <th>Product ID</th>\n",
              "      <th>Category</th>\n",
              "      <th>Sub-Category</th>\n",
              "      <th>Product Name</th>\n",
              "      <th>Sales</th>\n",
              "      <th>Quantity</th>\n",
              "      <th>Discount</th>\n",
              "      <th>Profit</th>\n",
              "      <th>Shipping Cost</th>\n",
              "      <th>Order Priority</th>\n",
              "      <th>Year</th>\n",
              "    </tr>\n",
              "  </thead>\n",
              "  <tbody>\n",
              "    <tr>\n",
              "      <th>count</th>\n",
              "      <td>51290</td>\n",
              "      <td>51290</td>\n",
              "      <td>51290</td>\n",
              "      <td>51290</td>\n",
              "      <td>51290</td>\n",
              "      <td>51290</td>\n",
              "      <td>51290</td>\n",
              "      <td>51290</td>\n",
              "      <td>51290</td>\n",
              "      <td>51290</td>\n",
              "      <td>9994.000000</td>\n",
              "      <td>51290</td>\n",
              "      <td>51290</td>\n",
              "      <td>51290</td>\n",
              "      <td>51290</td>\n",
              "      <td>51290</td>\n",
              "      <td>51290</td>\n",
              "      <td>51290.000000</td>\n",
              "      <td>51290.000000</td>\n",
              "      <td>51290.000000</td>\n",
              "      <td>51290.000000</td>\n",
              "      <td>51290.000000</td>\n",
              "      <td>51290</td>\n",
              "      <td>51290.000000</td>\n",
              "    </tr>\n",
              "    <tr>\n",
              "      <th>unique</th>\n",
              "      <td>25035</td>\n",
              "      <td>1430</td>\n",
              "      <td>1464</td>\n",
              "      <td>4</td>\n",
              "      <td>1590</td>\n",
              "      <td>795</td>\n",
              "      <td>3</td>\n",
              "      <td>3636</td>\n",
              "      <td>1094</td>\n",
              "      <td>147</td>\n",
              "      <td>NaN</td>\n",
              "      <td>7</td>\n",
              "      <td>13</td>\n",
              "      <td>10292</td>\n",
              "      <td>3</td>\n",
              "      <td>17</td>\n",
              "      <td>3788</td>\n",
              "      <td>NaN</td>\n",
              "      <td>NaN</td>\n",
              "      <td>NaN</td>\n",
              "      <td>NaN</td>\n",
              "      <td>NaN</td>\n",
              "      <td>4</td>\n",
              "      <td>NaN</td>\n",
              "    </tr>\n",
              "    <tr>\n",
              "      <th>top</th>\n",
              "      <td>CA-2014-100111</td>\n",
              "      <td>2014-06-18 00:00:00</td>\n",
              "      <td>2014-11-22 00:00:00</td>\n",
              "      <td>Standard Class</td>\n",
              "      <td>PO-18850</td>\n",
              "      <td>Muhammed Yedwab</td>\n",
              "      <td>Consumer</td>\n",
              "      <td>New York City</td>\n",
              "      <td>California</td>\n",
              "      <td>United States</td>\n",
              "      <td>NaN</td>\n",
              "      <td>APAC</td>\n",
              "      <td>Central</td>\n",
              "      <td>OFF-AR-10003651</td>\n",
              "      <td>Office Supplies</td>\n",
              "      <td>Binders</td>\n",
              "      <td>Staples</td>\n",
              "      <td>NaN</td>\n",
              "      <td>NaN</td>\n",
              "      <td>NaN</td>\n",
              "      <td>NaN</td>\n",
              "      <td>NaN</td>\n",
              "      <td>Medium</td>\n",
              "      <td>NaN</td>\n",
              "    </tr>\n",
              "    <tr>\n",
              "      <th>freq</th>\n",
              "      <td>14</td>\n",
              "      <td>135</td>\n",
              "      <td>130</td>\n",
              "      <td>30775</td>\n",
              "      <td>97</td>\n",
              "      <td>108</td>\n",
              "      <td>26518</td>\n",
              "      <td>915</td>\n",
              "      <td>2001</td>\n",
              "      <td>9994</td>\n",
              "      <td>NaN</td>\n",
              "      <td>11002</td>\n",
              "      <td>11117</td>\n",
              "      <td>35</td>\n",
              "      <td>31273</td>\n",
              "      <td>6152</td>\n",
              "      <td>227</td>\n",
              "      <td>NaN</td>\n",
              "      <td>NaN</td>\n",
              "      <td>NaN</td>\n",
              "      <td>NaN</td>\n",
              "      <td>NaN</td>\n",
              "      <td>29433</td>\n",
              "      <td>NaN</td>\n",
              "    </tr>\n",
              "    <tr>\n",
              "      <th>first</th>\n",
              "      <td>NaN</td>\n",
              "      <td>2011-01-01 00:00:00</td>\n",
              "      <td>2011-01-02 00:00:00</td>\n",
              "      <td>NaN</td>\n",
              "      <td>NaN</td>\n",
              "      <td>NaN</td>\n",
              "      <td>NaN</td>\n",
              "      <td>NaN</td>\n",
              "      <td>NaN</td>\n",
              "      <td>NaN</td>\n",
              "      <td>NaN</td>\n",
              "      <td>NaN</td>\n",
              "      <td>NaN</td>\n",
              "      <td>NaN</td>\n",
              "      <td>NaN</td>\n",
              "      <td>NaN</td>\n",
              "      <td>NaN</td>\n",
              "      <td>NaN</td>\n",
              "      <td>NaN</td>\n",
              "      <td>NaN</td>\n",
              "      <td>NaN</td>\n",
              "      <td>NaN</td>\n",
              "      <td>NaN</td>\n",
              "      <td>NaN</td>\n",
              "    </tr>\n",
              "    <tr>\n",
              "      <th>last</th>\n",
              "      <td>NaN</td>\n",
              "      <td>2014-12-31 00:00:00</td>\n",
              "      <td>2015-07-01 00:00:00</td>\n",
              "      <td>NaN</td>\n",
              "      <td>NaN</td>\n",
              "      <td>NaN</td>\n",
              "      <td>NaN</td>\n",
              "      <td>NaN</td>\n",
              "      <td>NaN</td>\n",
              "      <td>NaN</td>\n",
              "      <td>NaN</td>\n",
              "      <td>NaN</td>\n",
              "      <td>NaN</td>\n",
              "      <td>NaN</td>\n",
              "      <td>NaN</td>\n",
              "      <td>NaN</td>\n",
              "      <td>NaN</td>\n",
              "      <td>NaN</td>\n",
              "      <td>NaN</td>\n",
              "      <td>NaN</td>\n",
              "      <td>NaN</td>\n",
              "      <td>NaN</td>\n",
              "      <td>NaN</td>\n",
              "      <td>NaN</td>\n",
              "    </tr>\n",
              "    <tr>\n",
              "      <th>mean</th>\n",
              "      <td>NaN</td>\n",
              "      <td>NaN</td>\n",
              "      <td>NaN</td>\n",
              "      <td>NaN</td>\n",
              "      <td>NaN</td>\n",
              "      <td>NaN</td>\n",
              "      <td>NaN</td>\n",
              "      <td>NaN</td>\n",
              "      <td>NaN</td>\n",
              "      <td>NaN</td>\n",
              "      <td>55190.379428</td>\n",
              "      <td>NaN</td>\n",
              "      <td>NaN</td>\n",
              "      <td>NaN</td>\n",
              "      <td>NaN</td>\n",
              "      <td>NaN</td>\n",
              "      <td>NaN</td>\n",
              "      <td>246.490581</td>\n",
              "      <td>3.476545</td>\n",
              "      <td>0.142908</td>\n",
              "      <td>28.610982</td>\n",
              "      <td>26.375915</td>\n",
              "      <td>NaN</td>\n",
              "      <td>2012.777208</td>\n",
              "    </tr>\n",
              "    <tr>\n",
              "      <th>std</th>\n",
              "      <td>NaN</td>\n",
              "      <td>NaN</td>\n",
              "      <td>NaN</td>\n",
              "      <td>NaN</td>\n",
              "      <td>NaN</td>\n",
              "      <td>NaN</td>\n",
              "      <td>NaN</td>\n",
              "      <td>NaN</td>\n",
              "      <td>NaN</td>\n",
              "      <td>NaN</td>\n",
              "      <td>32063.693350</td>\n",
              "      <td>NaN</td>\n",
              "      <td>NaN</td>\n",
              "      <td>NaN</td>\n",
              "      <td>NaN</td>\n",
              "      <td>NaN</td>\n",
              "      <td>NaN</td>\n",
              "      <td>487.565361</td>\n",
              "      <td>2.278766</td>\n",
              "      <td>0.212280</td>\n",
              "      <td>174.340972</td>\n",
              "      <td>57.296804</td>\n",
              "      <td>NaN</td>\n",
              "      <td>1.098931</td>\n",
              "    </tr>\n",
              "    <tr>\n",
              "      <th>min</th>\n",
              "      <td>NaN</td>\n",
              "      <td>NaN</td>\n",
              "      <td>NaN</td>\n",
              "      <td>NaN</td>\n",
              "      <td>NaN</td>\n",
              "      <td>NaN</td>\n",
              "      <td>NaN</td>\n",
              "      <td>NaN</td>\n",
              "      <td>NaN</td>\n",
              "      <td>NaN</td>\n",
              "      <td>1040.000000</td>\n",
              "      <td>NaN</td>\n",
              "      <td>NaN</td>\n",
              "      <td>NaN</td>\n",
              "      <td>NaN</td>\n",
              "      <td>NaN</td>\n",
              "      <td>NaN</td>\n",
              "      <td>0.444000</td>\n",
              "      <td>1.000000</td>\n",
              "      <td>0.000000</td>\n",
              "      <td>-6599.978000</td>\n",
              "      <td>0.000000</td>\n",
              "      <td>NaN</td>\n",
              "      <td>2011.000000</td>\n",
              "    </tr>\n",
              "    <tr>\n",
              "      <th>25%</th>\n",
              "      <td>NaN</td>\n",
              "      <td>NaN</td>\n",
              "      <td>NaN</td>\n",
              "      <td>NaN</td>\n",
              "      <td>NaN</td>\n",
              "      <td>NaN</td>\n",
              "      <td>NaN</td>\n",
              "      <td>NaN</td>\n",
              "      <td>NaN</td>\n",
              "      <td>NaN</td>\n",
              "      <td>23223.000000</td>\n",
              "      <td>NaN</td>\n",
              "      <td>NaN</td>\n",
              "      <td>NaN</td>\n",
              "      <td>NaN</td>\n",
              "      <td>NaN</td>\n",
              "      <td>NaN</td>\n",
              "      <td>30.758625</td>\n",
              "      <td>2.000000</td>\n",
              "      <td>0.000000</td>\n",
              "      <td>0.000000</td>\n",
              "      <td>2.610000</td>\n",
              "      <td>NaN</td>\n",
              "      <td>2012.000000</td>\n",
              "    </tr>\n",
              "    <tr>\n",
              "      <th>50%</th>\n",
              "      <td>NaN</td>\n",
              "      <td>NaN</td>\n",
              "      <td>NaN</td>\n",
              "      <td>NaN</td>\n",
              "      <td>NaN</td>\n",
              "      <td>NaN</td>\n",
              "      <td>NaN</td>\n",
              "      <td>NaN</td>\n",
              "      <td>NaN</td>\n",
              "      <td>NaN</td>\n",
              "      <td>56430.500000</td>\n",
              "      <td>NaN</td>\n",
              "      <td>NaN</td>\n",
              "      <td>NaN</td>\n",
              "      <td>NaN</td>\n",
              "      <td>NaN</td>\n",
              "      <td>NaN</td>\n",
              "      <td>85.053000</td>\n",
              "      <td>3.000000</td>\n",
              "      <td>0.000000</td>\n",
              "      <td>9.240000</td>\n",
              "      <td>7.790000</td>\n",
              "      <td>NaN</td>\n",
              "      <td>2013.000000</td>\n",
              "    </tr>\n",
              "    <tr>\n",
              "      <th>75%</th>\n",
              "      <td>NaN</td>\n",
              "      <td>NaN</td>\n",
              "      <td>NaN</td>\n",
              "      <td>NaN</td>\n",
              "      <td>NaN</td>\n",
              "      <td>NaN</td>\n",
              "      <td>NaN</td>\n",
              "      <td>NaN</td>\n",
              "      <td>NaN</td>\n",
              "      <td>NaN</td>\n",
              "      <td>90008.000000</td>\n",
              "      <td>NaN</td>\n",
              "      <td>NaN</td>\n",
              "      <td>NaN</td>\n",
              "      <td>NaN</td>\n",
              "      <td>NaN</td>\n",
              "      <td>NaN</td>\n",
              "      <td>251.053200</td>\n",
              "      <td>5.000000</td>\n",
              "      <td>0.200000</td>\n",
              "      <td>36.810000</td>\n",
              "      <td>24.450000</td>\n",
              "      <td>NaN</td>\n",
              "      <td>2014.000000</td>\n",
              "    </tr>\n",
              "    <tr>\n",
              "      <th>max</th>\n",
              "      <td>NaN</td>\n",
              "      <td>NaN</td>\n",
              "      <td>NaN</td>\n",
              "      <td>NaN</td>\n",
              "      <td>NaN</td>\n",
              "      <td>NaN</td>\n",
              "      <td>NaN</td>\n",
              "      <td>NaN</td>\n",
              "      <td>NaN</td>\n",
              "      <td>NaN</td>\n",
              "      <td>99301.000000</td>\n",
              "      <td>NaN</td>\n",
              "      <td>NaN</td>\n",
              "      <td>NaN</td>\n",
              "      <td>NaN</td>\n",
              "      <td>NaN</td>\n",
              "      <td>NaN</td>\n",
              "      <td>22638.480000</td>\n",
              "      <td>14.000000</td>\n",
              "      <td>0.850000</td>\n",
              "      <td>8399.976000</td>\n",
              "      <td>933.570000</td>\n",
              "      <td>NaN</td>\n",
              "      <td>2014.000000</td>\n",
              "    </tr>\n",
              "  </tbody>\n",
              "</table>\n",
              "</div>"
            ],
            "text/plain": [
              "              Order ID           Order Date  ... Order Priority          Year\n",
              "count            51290                51290  ...          51290  51290.000000\n",
              "unique           25035                 1430  ...              4           NaN\n",
              "top     CA-2014-100111  2014-06-18 00:00:00  ...         Medium           NaN\n",
              "freq                14                  135  ...          29433           NaN\n",
              "first              NaN  2011-01-01 00:00:00  ...            NaN           NaN\n",
              "last               NaN  2014-12-31 00:00:00  ...            NaN           NaN\n",
              "mean               NaN                  NaN  ...            NaN   2012.777208\n",
              "std                NaN                  NaN  ...            NaN      1.098931\n",
              "min                NaN                  NaN  ...            NaN   2011.000000\n",
              "25%                NaN                  NaN  ...            NaN   2012.000000\n",
              "50%                NaN                  NaN  ...            NaN   2013.000000\n",
              "75%                NaN                  NaN  ...            NaN   2014.000000\n",
              "max                NaN                  NaN  ...            NaN   2014.000000\n",
              "\n",
              "[13 rows x 24 columns]"
            ]
          },
          "metadata": {
            "tags": []
          },
          "execution_count": 9
        }
      ]
    },
    {
      "cell_type": "code",
      "metadata": {
        "id": "GXrvgIQSwqZH",
        "colab_type": "code",
        "colab": {
          "base_uri": "https://localhost:8080/",
          "height": 85
        },
        "outputId": "b0ae28c9-9297-4d34-f1d8-b4a509689f3f"
      },
      "source": [
        "df['Category'].value_counts()"
      ],
      "execution_count": null,
      "outputs": [
        {
          "output_type": "execute_result",
          "data": {
            "text/plain": [
              "Office Supplies    31273\n",
              "Technology         10141\n",
              "Furniture           9876\n",
              "Name: Category, dtype: int64"
            ]
          },
          "metadata": {
            "tags": []
          },
          "execution_count": 10
        }
      ]
    },
    {
      "cell_type": "code",
      "metadata": {
        "id": "v0jFiRiZ5u09",
        "colab_type": "code",
        "colab": {
          "base_uri": "https://localhost:8080/",
          "height": 450
        },
        "outputId": "16543c94-3c21-4e3d-dbad-f56d42006ca1"
      },
      "source": [
        "# df.loc[:, df['Category'] == 'Furniture']\n",
        "df[['Category']]"
      ],
      "execution_count": null,
      "outputs": [
        {
          "output_type": "execute_result",
          "data": {
            "text/html": [
              "<div>\n",
              "<style scoped>\n",
              "    .dataframe tbody tr th:only-of-type {\n",
              "        vertical-align: middle;\n",
              "    }\n",
              "\n",
              "    .dataframe tbody tr th {\n",
              "        vertical-align: top;\n",
              "    }\n",
              "\n",
              "    .dataframe thead th {\n",
              "        text-align: right;\n",
              "    }\n",
              "</style>\n",
              "<table border=\"1\" class=\"dataframe\">\n",
              "  <thead>\n",
              "    <tr style=\"text-align: right;\">\n",
              "      <th></th>\n",
              "      <th>Category</th>\n",
              "    </tr>\n",
              "    <tr>\n",
              "      <th>Row ID</th>\n",
              "      <th></th>\n",
              "    </tr>\n",
              "  </thead>\n",
              "  <tbody>\n",
              "    <tr>\n",
              "      <th>42433</th>\n",
              "      <td>Office Supplies</td>\n",
              "    </tr>\n",
              "    <tr>\n",
              "      <th>22253</th>\n",
              "      <td>Office Supplies</td>\n",
              "    </tr>\n",
              "    <tr>\n",
              "      <th>48883</th>\n",
              "      <td>Office Supplies</td>\n",
              "    </tr>\n",
              "    <tr>\n",
              "      <th>11731</th>\n",
              "      <td>Office Supplies</td>\n",
              "    </tr>\n",
              "    <tr>\n",
              "      <th>22255</th>\n",
              "      <td>Furniture</td>\n",
              "    </tr>\n",
              "    <tr>\n",
              "      <th>...</th>\n",
              "      <td>...</td>\n",
              "    </tr>\n",
              "    <tr>\n",
              "      <th>32593</th>\n",
              "      <td>Office Supplies</td>\n",
              "    </tr>\n",
              "    <tr>\n",
              "      <th>47594</th>\n",
              "      <td>Office Supplies</td>\n",
              "    </tr>\n",
              "    <tr>\n",
              "      <th>8857</th>\n",
              "      <td>Office Supplies</td>\n",
              "    </tr>\n",
              "    <tr>\n",
              "      <th>6852</th>\n",
              "      <td>Office Supplies</td>\n",
              "    </tr>\n",
              "    <tr>\n",
              "      <th>36388</th>\n",
              "      <td>Office Supplies</td>\n",
              "    </tr>\n",
              "  </tbody>\n",
              "</table>\n",
              "<p>51290 rows × 1 columns</p>\n",
              "</div>"
            ],
            "text/plain": [
              "               Category\n",
              "Row ID                 \n",
              "42433   Office Supplies\n",
              "22253   Office Supplies\n",
              "48883   Office Supplies\n",
              "11731   Office Supplies\n",
              "22255         Furniture\n",
              "...                 ...\n",
              "32593   Office Supplies\n",
              "47594   Office Supplies\n",
              "8857    Office Supplies\n",
              "6852    Office Supplies\n",
              "36388   Office Supplies\n",
              "\n",
              "[51290 rows x 1 columns]"
            ]
          },
          "metadata": {
            "tags": []
          },
          "execution_count": 11
        }
      ]
    },
    {
      "cell_type": "code",
      "metadata": {
        "id": "JP71EXR36p5T",
        "colab_type": "code",
        "colab": {}
      },
      "source": [
        "# I don't know what it is doing!\n",
        "# dict(df)"
      ],
      "execution_count": null,
      "outputs": []
    },
    {
      "cell_type": "code",
      "metadata": {
        "id": "lURDwiiR_kw4",
        "colab_type": "code",
        "colab": {
          "base_uri": "https://localhost:8080/",
          "height": 544
        },
        "outputId": "51c202dd-21ce-4c73-d293-dfd79fb2106f"
      },
      "source": [
        "df.info()"
      ],
      "execution_count": null,
      "outputs": [
        {
          "output_type": "stream",
          "text": [
            "<class 'pandas.core.frame.DataFrame'>\n",
            "Int64Index: 51290 entries, 42433 to 36388\n",
            "Data columns (total 24 columns):\n",
            " #   Column          Non-Null Count  Dtype         \n",
            "---  ------          --------------  -----         \n",
            " 0   Order ID        51290 non-null  object        \n",
            " 1   Order Date      51290 non-null  datetime64[ns]\n",
            " 2   Ship Date       51290 non-null  datetime64[ns]\n",
            " 3   Ship Mode       51290 non-null  object        \n",
            " 4   Customer ID     51290 non-null  object        \n",
            " 5   Customer Name   51290 non-null  object        \n",
            " 6   Segment         51290 non-null  object        \n",
            " 7   City            51290 non-null  object        \n",
            " 8   State           51290 non-null  object        \n",
            " 9   Country         51290 non-null  object        \n",
            " 10  Postal Code     9994 non-null   float64       \n",
            " 11  Market          51290 non-null  object        \n",
            " 12  Region          51290 non-null  object        \n",
            " 13  Product ID      51290 non-null  object        \n",
            " 14  Category        51290 non-null  object        \n",
            " 15  Sub-Category    51290 non-null  object        \n",
            " 16  Product Name    51290 non-null  object        \n",
            " 17  Sales           51290 non-null  float64       \n",
            " 18  Quantity        51290 non-null  int64         \n",
            " 19  Discount        51290 non-null  float64       \n",
            " 20  Profit          51290 non-null  float64       \n",
            " 21  Shipping Cost   51290 non-null  float64       \n",
            " 22  Order Priority  51290 non-null  object        \n",
            " 23  Year            51290 non-null  int64         \n",
            "dtypes: datetime64[ns](2), float64(5), int64(2), object(15)\n",
            "memory usage: 9.8+ MB\n"
          ],
          "name": "stdout"
        }
      ]
    },
    {
      "cell_type": "code",
      "metadata": {
        "id": "aESU8JQgBafK",
        "colab_type": "code",
        "colab": {
          "base_uri": "https://localhost:8080/",
          "height": 442
        },
        "outputId": "1159aff8-4a78-469e-e457-4d790d8c1e46"
      },
      "source": [
        "df.isnull().sum()"
      ],
      "execution_count": null,
      "outputs": [
        {
          "output_type": "execute_result",
          "data": {
            "text/plain": [
              "Order ID              0\n",
              "Order Date            0\n",
              "Ship Date             0\n",
              "Ship Mode             0\n",
              "Customer ID           0\n",
              "Customer Name         0\n",
              "Segment               0\n",
              "City                  0\n",
              "State                 0\n",
              "Country               0\n",
              "Postal Code       41296\n",
              "Market                0\n",
              "Region                0\n",
              "Product ID            0\n",
              "Category              0\n",
              "Sub-Category          0\n",
              "Product Name          0\n",
              "Sales                 0\n",
              "Quantity              0\n",
              "Discount              0\n",
              "Profit                0\n",
              "Shipping Cost         0\n",
              "Order Priority        0\n",
              "Year                  0\n",
              "dtype: int64"
            ]
          },
          "metadata": {
            "tags": []
          },
          "execution_count": 14
        }
      ]
    },
    {
      "cell_type": "markdown",
      "metadata": {
        "id": "nTW7-t4xggfB",
        "colab_type": "text"
      },
      "source": [
        "isnull method by default accept axis argument = 0, means axis=0, it indicates any operation through the row direction"
      ]
    },
    {
      "cell_type": "code",
      "metadata": {
        "id": "j16n8eJGe8cu",
        "colab_type": "code",
        "colab": {
          "base_uri": "https://localhost:8080/",
          "height": 793
        },
        "outputId": "5fb8702b-75a8-405e-f8a4-0f900667c437"
      },
      "source": [
        "df[df['Postal Code'].isnull()]\n",
        "# this will return number of all rows where Postal Code is null"
      ],
      "execution_count": null,
      "outputs": [
        {
          "output_type": "execute_result",
          "data": {
            "text/html": [
              "<div>\n",
              "<style scoped>\n",
              "    .dataframe tbody tr th:only-of-type {\n",
              "        vertical-align: middle;\n",
              "    }\n",
              "\n",
              "    .dataframe tbody tr th {\n",
              "        vertical-align: top;\n",
              "    }\n",
              "\n",
              "    .dataframe thead th {\n",
              "        text-align: right;\n",
              "    }\n",
              "</style>\n",
              "<table border=\"1\" class=\"dataframe\">\n",
              "  <thead>\n",
              "    <tr style=\"text-align: right;\">\n",
              "      <th></th>\n",
              "      <th>Order ID</th>\n",
              "      <th>Order Date</th>\n",
              "      <th>Ship Date</th>\n",
              "      <th>Ship Mode</th>\n",
              "      <th>Customer ID</th>\n",
              "      <th>Customer Name</th>\n",
              "      <th>Segment</th>\n",
              "      <th>City</th>\n",
              "      <th>State</th>\n",
              "      <th>Country</th>\n",
              "      <th>Postal Code</th>\n",
              "      <th>Market</th>\n",
              "      <th>Region</th>\n",
              "      <th>Product ID</th>\n",
              "      <th>Category</th>\n",
              "      <th>Sub-Category</th>\n",
              "      <th>Product Name</th>\n",
              "      <th>Sales</th>\n",
              "      <th>Quantity</th>\n",
              "      <th>Discount</th>\n",
              "      <th>Profit</th>\n",
              "      <th>Shipping Cost</th>\n",
              "      <th>Order Priority</th>\n",
              "      <th>Year</th>\n",
              "    </tr>\n",
              "    <tr>\n",
              "      <th>Row ID</th>\n",
              "      <th></th>\n",
              "      <th></th>\n",
              "      <th></th>\n",
              "      <th></th>\n",
              "      <th></th>\n",
              "      <th></th>\n",
              "      <th></th>\n",
              "      <th></th>\n",
              "      <th></th>\n",
              "      <th></th>\n",
              "      <th></th>\n",
              "      <th></th>\n",
              "      <th></th>\n",
              "      <th></th>\n",
              "      <th></th>\n",
              "      <th></th>\n",
              "      <th></th>\n",
              "      <th></th>\n",
              "      <th></th>\n",
              "      <th></th>\n",
              "      <th></th>\n",
              "      <th></th>\n",
              "      <th></th>\n",
              "      <th></th>\n",
              "    </tr>\n",
              "  </thead>\n",
              "  <tbody>\n",
              "    <tr>\n",
              "      <th>42433</th>\n",
              "      <td>AG-2011-2040</td>\n",
              "      <td>2011-01-01</td>\n",
              "      <td>2011-06-01</td>\n",
              "      <td>Standard Class</td>\n",
              "      <td>TB-11280</td>\n",
              "      <td>Toby Braunhardt</td>\n",
              "      <td>Consumer</td>\n",
              "      <td>Constantine</td>\n",
              "      <td>Constantine</td>\n",
              "      <td>Algeria</td>\n",
              "      <td>NaN</td>\n",
              "      <td>Africa</td>\n",
              "      <td>Africa</td>\n",
              "      <td>OFF-TEN-10000025</td>\n",
              "      <td>Office Supplies</td>\n",
              "      <td>Storage</td>\n",
              "      <td>Tenex Lockers, Blue</td>\n",
              "      <td>408.300</td>\n",
              "      <td>2</td>\n",
              "      <td>0.0</td>\n",
              "      <td>106.140</td>\n",
              "      <td>35.46</td>\n",
              "      <td>Medium</td>\n",
              "      <td>2011</td>\n",
              "    </tr>\n",
              "    <tr>\n",
              "      <th>22253</th>\n",
              "      <td>IN-2011-47883</td>\n",
              "      <td>2011-01-01</td>\n",
              "      <td>2011-08-01</td>\n",
              "      <td>Standard Class</td>\n",
              "      <td>JH-15985</td>\n",
              "      <td>Joseph Holt</td>\n",
              "      <td>Consumer</td>\n",
              "      <td>Wagga Wagga</td>\n",
              "      <td>New South Wales</td>\n",
              "      <td>Australia</td>\n",
              "      <td>NaN</td>\n",
              "      <td>APAC</td>\n",
              "      <td>Oceania</td>\n",
              "      <td>OFF-SU-10000618</td>\n",
              "      <td>Office Supplies</td>\n",
              "      <td>Supplies</td>\n",
              "      <td>Acme Trimmer, High Speed</td>\n",
              "      <td>120.366</td>\n",
              "      <td>3</td>\n",
              "      <td>0.1</td>\n",
              "      <td>36.036</td>\n",
              "      <td>9.72</td>\n",
              "      <td>Medium</td>\n",
              "      <td>2011</td>\n",
              "    </tr>\n",
              "    <tr>\n",
              "      <th>48883</th>\n",
              "      <td>HU-2011-1220</td>\n",
              "      <td>2011-01-01</td>\n",
              "      <td>2011-05-01</td>\n",
              "      <td>Second Class</td>\n",
              "      <td>AT-735</td>\n",
              "      <td>Annie Thurman</td>\n",
              "      <td>Consumer</td>\n",
              "      <td>Budapest</td>\n",
              "      <td>Budapest</td>\n",
              "      <td>Hungary</td>\n",
              "      <td>NaN</td>\n",
              "      <td>EMEA</td>\n",
              "      <td>EMEA</td>\n",
              "      <td>OFF-TEN-10001585</td>\n",
              "      <td>Office Supplies</td>\n",
              "      <td>Storage</td>\n",
              "      <td>Tenex Box, Single Width</td>\n",
              "      <td>66.120</td>\n",
              "      <td>4</td>\n",
              "      <td>0.0</td>\n",
              "      <td>29.640</td>\n",
              "      <td>8.17</td>\n",
              "      <td>High</td>\n",
              "      <td>2011</td>\n",
              "    </tr>\n",
              "    <tr>\n",
              "      <th>11731</th>\n",
              "      <td>IT-2011-3647632</td>\n",
              "      <td>2011-01-01</td>\n",
              "      <td>2011-05-01</td>\n",
              "      <td>Second Class</td>\n",
              "      <td>EM-14140</td>\n",
              "      <td>Eugene Moren</td>\n",
              "      <td>Home Office</td>\n",
              "      <td>Stockholm</td>\n",
              "      <td>Stockholm</td>\n",
              "      <td>Sweden</td>\n",
              "      <td>NaN</td>\n",
              "      <td>EU</td>\n",
              "      <td>North</td>\n",
              "      <td>OFF-PA-10001492</td>\n",
              "      <td>Office Supplies</td>\n",
              "      <td>Paper</td>\n",
              "      <td>Enermax Note Cards, Premium</td>\n",
              "      <td>44.865</td>\n",
              "      <td>3</td>\n",
              "      <td>0.5</td>\n",
              "      <td>-26.055</td>\n",
              "      <td>4.82</td>\n",
              "      <td>High</td>\n",
              "      <td>2011</td>\n",
              "    </tr>\n",
              "    <tr>\n",
              "      <th>22255</th>\n",
              "      <td>IN-2011-47883</td>\n",
              "      <td>2011-01-01</td>\n",
              "      <td>2011-08-01</td>\n",
              "      <td>Standard Class</td>\n",
              "      <td>JH-15985</td>\n",
              "      <td>Joseph Holt</td>\n",
              "      <td>Consumer</td>\n",
              "      <td>Wagga Wagga</td>\n",
              "      <td>New South Wales</td>\n",
              "      <td>Australia</td>\n",
              "      <td>NaN</td>\n",
              "      <td>APAC</td>\n",
              "      <td>Oceania</td>\n",
              "      <td>FUR-FU-10003447</td>\n",
              "      <td>Furniture</td>\n",
              "      <td>Furnishings</td>\n",
              "      <td>Eldon Light Bulb, Duo Pack</td>\n",
              "      <td>113.670</td>\n",
              "      <td>5</td>\n",
              "      <td>0.1</td>\n",
              "      <td>37.770</td>\n",
              "      <td>4.70</td>\n",
              "      <td>Medium</td>\n",
              "      <td>2011</td>\n",
              "    </tr>\n",
              "    <tr>\n",
              "      <th>...</th>\n",
              "      <td>...</td>\n",
              "      <td>...</td>\n",
              "      <td>...</td>\n",
              "      <td>...</td>\n",
              "      <td>...</td>\n",
              "      <td>...</td>\n",
              "      <td>...</td>\n",
              "      <td>...</td>\n",
              "      <td>...</td>\n",
              "      <td>...</td>\n",
              "      <td>...</td>\n",
              "      <td>...</td>\n",
              "      <td>...</td>\n",
              "      <td>...</td>\n",
              "      <td>...</td>\n",
              "      <td>...</td>\n",
              "      <td>...</td>\n",
              "      <td>...</td>\n",
              "      <td>...</td>\n",
              "      <td>...</td>\n",
              "      <td>...</td>\n",
              "      <td>...</td>\n",
              "      <td>...</td>\n",
              "      <td>...</td>\n",
              "    </tr>\n",
              "    <tr>\n",
              "      <th>27700</th>\n",
              "      <td>IN-2014-23754</td>\n",
              "      <td>2014-12-31</td>\n",
              "      <td>2015-07-01</td>\n",
              "      <td>Standard Class</td>\n",
              "      <td>KM-16225</td>\n",
              "      <td>Kalyca Meade</td>\n",
              "      <td>Corporate</td>\n",
              "      <td>Shantou</td>\n",
              "      <td>Guangdong</td>\n",
              "      <td>China</td>\n",
              "      <td>NaN</td>\n",
              "      <td>APAC</td>\n",
              "      <td>North Asia</td>\n",
              "      <td>OFF-PA-10004727</td>\n",
              "      <td>Office Supplies</td>\n",
              "      <td>Paper</td>\n",
              "      <td>Eaton Note Cards, 8.5 x 11</td>\n",
              "      <td>79.470</td>\n",
              "      <td>3</td>\n",
              "      <td>0.0</td>\n",
              "      <td>25.380</td>\n",
              "      <td>1.41</td>\n",
              "      <td>Medium</td>\n",
              "      <td>2014</td>\n",
              "    </tr>\n",
              "    <tr>\n",
              "      <th>2143</th>\n",
              "      <td>MX-2014-108574</td>\n",
              "      <td>2014-12-31</td>\n",
              "      <td>2015-04-01</td>\n",
              "      <td>Standard Class</td>\n",
              "      <td>JB-16045</td>\n",
              "      <td>Julia Barnett</td>\n",
              "      <td>Home Office</td>\n",
              "      <td>Reynosa</td>\n",
              "      <td>Tamaulipas</td>\n",
              "      <td>Mexico</td>\n",
              "      <td>NaN</td>\n",
              "      <td>LATAM</td>\n",
              "      <td>North</td>\n",
              "      <td>OFF-LA-10004969</td>\n",
              "      <td>Office Supplies</td>\n",
              "      <td>Labels</td>\n",
              "      <td>Novimex Legal Exhibit Labels, Adjustable</td>\n",
              "      <td>16.740</td>\n",
              "      <td>3</td>\n",
              "      <td>0.0</td>\n",
              "      <td>0.660</td>\n",
              "      <td>1.32</td>\n",
              "      <td>Medium</td>\n",
              "      <td>2014</td>\n",
              "    </tr>\n",
              "    <tr>\n",
              "      <th>47594</th>\n",
              "      <td>MO-2014-2560</td>\n",
              "      <td>2014-12-31</td>\n",
              "      <td>2015-05-01</td>\n",
              "      <td>Standard Class</td>\n",
              "      <td>LP-7095</td>\n",
              "      <td>Liz Preis</td>\n",
              "      <td>Consumer</td>\n",
              "      <td>Agadir</td>\n",
              "      <td>Souss-Massa-Draâ</td>\n",
              "      <td>Morocco</td>\n",
              "      <td>NaN</td>\n",
              "      <td>Africa</td>\n",
              "      <td>Africa</td>\n",
              "      <td>OFF-WIL-10001069</td>\n",
              "      <td>Office Supplies</td>\n",
              "      <td>Binders</td>\n",
              "      <td>Wilson Jones Hole Reinforcements, Clear</td>\n",
              "      <td>3.990</td>\n",
              "      <td>1</td>\n",
              "      <td>0.0</td>\n",
              "      <td>0.420</td>\n",
              "      <td>0.49</td>\n",
              "      <td>Medium</td>\n",
              "      <td>2014</td>\n",
              "    </tr>\n",
              "    <tr>\n",
              "      <th>8857</th>\n",
              "      <td>MX-2014-110527</td>\n",
              "      <td>2014-12-31</td>\n",
              "      <td>2015-02-01</td>\n",
              "      <td>Second Class</td>\n",
              "      <td>CM-12190</td>\n",
              "      <td>Charlotte Melton</td>\n",
              "      <td>Consumer</td>\n",
              "      <td>Managua</td>\n",
              "      <td>Managua</td>\n",
              "      <td>Nicaragua</td>\n",
              "      <td>NaN</td>\n",
              "      <td>LATAM</td>\n",
              "      <td>Central</td>\n",
              "      <td>OFF-LA-10004182</td>\n",
              "      <td>Office Supplies</td>\n",
              "      <td>Labels</td>\n",
              "      <td>Hon Color Coded Labels, 5000 Label Set</td>\n",
              "      <td>26.400</td>\n",
              "      <td>3</td>\n",
              "      <td>0.0</td>\n",
              "      <td>12.360</td>\n",
              "      <td>0.35</td>\n",
              "      <td>Medium</td>\n",
              "      <td>2014</td>\n",
              "    </tr>\n",
              "    <tr>\n",
              "      <th>6852</th>\n",
              "      <td>MX-2014-114783</td>\n",
              "      <td>2014-12-31</td>\n",
              "      <td>2015-06-01</td>\n",
              "      <td>Standard Class</td>\n",
              "      <td>TD-20995</td>\n",
              "      <td>Tamara Dahlen</td>\n",
              "      <td>Consumer</td>\n",
              "      <td>Juárez</td>\n",
              "      <td>Chihuahua</td>\n",
              "      <td>Mexico</td>\n",
              "      <td>NaN</td>\n",
              "      <td>LATAM</td>\n",
              "      <td>North</td>\n",
              "      <td>OFF-LA-10000413</td>\n",
              "      <td>Office Supplies</td>\n",
              "      <td>Labels</td>\n",
              "      <td>Hon Legal Exhibit Labels, Alphabetical</td>\n",
              "      <td>7.120</td>\n",
              "      <td>1</td>\n",
              "      <td>0.0</td>\n",
              "      <td>0.560</td>\n",
              "      <td>0.20</td>\n",
              "      <td>Medium</td>\n",
              "      <td>2014</td>\n",
              "    </tr>\n",
              "  </tbody>\n",
              "</table>\n",
              "<p>41296 rows × 24 columns</p>\n",
              "</div>"
            ],
            "text/plain": [
              "               Order ID Order Date  ... Order Priority  Year\n",
              "Row ID                              ...                     \n",
              "42433      AG-2011-2040 2011-01-01  ...         Medium  2011\n",
              "22253     IN-2011-47883 2011-01-01  ...         Medium  2011\n",
              "48883      HU-2011-1220 2011-01-01  ...           High  2011\n",
              "11731   IT-2011-3647632 2011-01-01  ...           High  2011\n",
              "22255     IN-2011-47883 2011-01-01  ...         Medium  2011\n",
              "...                 ...        ...  ...            ...   ...\n",
              "27700     IN-2014-23754 2014-12-31  ...         Medium  2014\n",
              "2143     MX-2014-108574 2014-12-31  ...         Medium  2014\n",
              "47594      MO-2014-2560 2014-12-31  ...         Medium  2014\n",
              "8857     MX-2014-110527 2014-12-31  ...         Medium  2014\n",
              "6852     MX-2014-114783 2014-12-31  ...         Medium  2014\n",
              "\n",
              "[41296 rows x 24 columns]"
            ]
          },
          "metadata": {
            "tags": []
          },
          "execution_count": 15
        }
      ]
    },
    {
      "cell_type": "code",
      "metadata": {
        "id": "03eV_nwGf5-9",
        "colab_type": "code",
        "colab": {
          "base_uri": "https://localhost:8080/",
          "height": 102
        },
        "outputId": "08448d46-3052-441e-e86d-bc99cef9401a"
      },
      "source": [
        "df['Ship Mode'].value_counts()"
      ],
      "execution_count": null,
      "outputs": [
        {
          "output_type": "execute_result",
          "data": {
            "text/plain": [
              "Standard Class    30775\n",
              "Second Class      10309\n",
              "First Class        7505\n",
              "Same Day           2701\n",
              "Name: Ship Mode, dtype: int64"
            ]
          },
          "metadata": {
            "tags": []
          },
          "execution_count": 16
        }
      ]
    },
    {
      "cell_type": "code",
      "metadata": {
        "id": "eRqzUcfNikTs",
        "colab_type": "code",
        "colab": {
          "base_uri": "https://localhost:8080/",
          "height": 544
        },
        "outputId": "de8f5212-a61c-4c8e-f3d4-ae3815d7c016"
      },
      "source": [
        "df['Country'].unique() #.tolist()"
      ],
      "execution_count": null,
      "outputs": [
        {
          "output_type": "execute_result",
          "data": {
            "text/plain": [
              "array(['Algeria', 'Australia', 'Hungary', 'Sweden', 'Bangladesh',\n",
              "       'United States', 'Angola', 'China', 'Panama', 'Iran', 'France',\n",
              "       'Italy', 'Germany', 'Canada', 'United Kingdom', 'Ukraine', 'Japan',\n",
              "       'Indonesia', 'Nigeria', 'South Korea', 'Peru', 'Philippines',\n",
              "       'Colombia', 'Ireland', 'Nicaragua', 'Mexico', 'Brazil', 'Turkey',\n",
              "       'Spain', 'Poland', 'India', 'Somalia', 'El Salvador', 'Sudan',\n",
              "       'Slovakia', 'Egypt', 'Saudi Arabia',\n",
              "       'Democratic Republic of the Congo', 'Norway', 'New Zealand',\n",
              "       'Kenya', 'Cuba', 'Venezuela', 'Singapore', 'Honduras', 'Tanzania',\n",
              "       'Dominican Republic', 'Morocco', 'Albania', 'Belgium',\n",
              "       'Afghanistan', 'Bolivia', 'Vietnam', 'Guatemala', 'Guinea-Bissau',\n",
              "       'Thailand', 'Iraq', 'Myanmar (Burma)', 'Ecuador', 'Netherlands',\n",
              "       'Ghana', \"Cote d'Ivoire\", 'Austria', 'Argentina', 'Madagascar',\n",
              "       'Russia', 'South Africa', 'Bosnia and Herzegovina', 'Malaysia',\n",
              "       'Romania', 'Israel', 'Burundi', 'Cameroon', 'Paraguay', 'Senegal',\n",
              "       'Georgia', 'Kazakhstan', 'United Arab Emirates', 'Pakistan',\n",
              "       'Liberia', 'Czech Republic', 'Jamaica', 'Benin', 'Taiwan',\n",
              "       'Rwanda', 'Switzerland', 'Denmark', 'Haiti', 'Qatar', 'Chile',\n",
              "       'Bulgaria', 'Mozambique', 'Lebanon', 'Barbados', 'Uzbekistan',\n",
              "       'Moldova', 'Cambodia', 'Guinea', 'Azerbaijan', 'Zambia', 'Uruguay',\n",
              "       'Portugal', 'Uganda', 'Martinique', 'Togo', 'Zimbabwe', 'Finland',\n",
              "       'Belarus', 'Libya', 'Lithuania', 'Republic of the Congo',\n",
              "       'Tunisia', 'Papua New Guinea', 'Turkmenistan', 'Yemen',\n",
              "       'Trinidad and Tobago', 'Kyrgyzstan', 'Croatia', 'Nepal', 'Mali',\n",
              "       'Namibia', 'Syria', 'Sierra Leone', 'Gabon', 'Mauritania',\n",
              "       'Guadeloupe', 'Niger', 'Sri Lanka', 'Djibouti', 'Jordan',\n",
              "       'Equatorial Guinea', 'Hong Kong', 'Mongolia', 'Eritrea',\n",
              "       'Slovenia', 'Ethiopia', 'Tajikistan', 'Montenegro',\n",
              "       'Central African Republic', 'Lesotho', 'Chad', 'Armenia',\n",
              "       'Swaziland', 'Estonia', 'South Sudan', 'Bahrain', 'Macedonia'],\n",
              "      dtype=object)"
            ]
          },
          "metadata": {
            "tags": []
          },
          "execution_count": 17
        }
      ]
    },
    {
      "cell_type": "code",
      "metadata": {
        "id": "IMszHHXbI0Mn",
        "colab_type": "code",
        "colab": {
          "base_uri": "https://localhost:8080/",
          "height": 221
        },
        "outputId": "90eb5d6c-ad5e-41af-8e97-5b8da0132205"
      },
      "source": [
        "df['Country'].value_counts()"
      ],
      "execution_count": null,
      "outputs": [
        {
          "output_type": "execute_result",
          "data": {
            "text/plain": [
              "United States    9994\n",
              "Australia        2837\n",
              "France           2827\n",
              "Mexico           2644\n",
              "Germany          2065\n",
              "                 ... \n",
              "Bahrain             2\n",
              "Swaziland           2\n",
              "Burundi             2\n",
              "Eritrea             2\n",
              "South Sudan         2\n",
              "Name: Country, Length: 147, dtype: int64"
            ]
          },
          "metadata": {
            "tags": []
          },
          "execution_count": 18
        }
      ]
    },
    {
      "cell_type": "markdown",
      "metadata": {
        "id": "lWrG-A5lU-v4",
        "colab_type": "text"
      },
      "source": [
        "# Numerical Analysis and Visualization"
      ]
    },
    {
      "cell_type": "code",
      "metadata": {
        "id": "fTYaueTaJLnc",
        "colab_type": "code",
        "colab": {
          "base_uri": "https://localhost:8080/",
          "height": 170
        },
        "outputId": "4118fa41-9ef6-47a6-a382-3d8c3cf234e3"
      },
      "source": [
        "df['Sales'].describe()"
      ],
      "execution_count": null,
      "outputs": [
        {
          "output_type": "execute_result",
          "data": {
            "text/plain": [
              "count    51290.000000\n",
              "mean       246.490581\n",
              "std        487.565361\n",
              "min          0.444000\n",
              "25%         30.758625\n",
              "50%         85.053000\n",
              "75%        251.053200\n",
              "max      22638.480000\n",
              "Name: Sales, dtype: float64"
            ]
          },
          "metadata": {
            "tags": []
          },
          "execution_count": 19
        }
      ]
    },
    {
      "cell_type": "markdown",
      "metadata": {
        "id": "HxlrwsdlEOdV",
        "colab_type": "text"
      },
      "source": [
        "### Boxplot"
      ]
    },
    {
      "cell_type": "code",
      "metadata": {
        "id": "SUZvJYFTOvqL",
        "colab_type": "code",
        "colab": {
          "base_uri": "https://localhost:8080/",
          "height": 337
        },
        "outputId": "a4840f07-9b2a-4135-ecc4-bf78a1935e9e"
      },
      "source": [
        "cln_df = df.dropna(how='any')\n",
        "# df['Sales'].plot(kind='box', vert=False, figsize=(14, 5))\n",
        "cln_df['Sales'].plot(kind='box', vert=False, figsize=(14, 5))"
      ],
      "execution_count": null,
      "outputs": [
        {
          "output_type": "execute_result",
          "data": {
            "text/plain": [
              "<matplotlib.axes._subplots.AxesSubplot at 0x7f3f2cf4b710>"
            ]
          },
          "metadata": {
            "tags": []
          },
          "execution_count": 20
        },
        {
          "output_type": "display_data",
          "data": {
            "image/png": "[encoded data removed]",
            "text/plain": [
              "<Figure size 1008x360 with 1 Axes>"
            ]
          },
          "metadata": {
            "tags": [],
            "needs_background": "light"
          }
        }
      ]
    },
    {
      "cell_type": "code",
      "metadata": {
        "id": "KysGDU6SWhmP",
        "colab_type": "code",
        "colab": {
          "base_uri": "https://localhost:8080/",
          "height": 170
        },
        "outputId": "193dcfbe-a47e-401e-9412-19165b4d7ec6"
      },
      "source": [
        "df['Profit'].describe()"
      ],
      "execution_count": null,
      "outputs": [
        {
          "output_type": "execute_result",
          "data": {
            "text/plain": [
              "count    51290.000000\n",
              "mean        28.610982\n",
              "std        174.340972\n",
              "min      -6599.978000\n",
              "25%          0.000000\n",
              "50%          9.240000\n",
              "75%         36.810000\n",
              "max       8399.976000\n",
              "Name: Profit, dtype: float64"
            ]
          },
          "metadata": {
            "tags": []
          },
          "execution_count": 21
        }
      ]
    },
    {
      "cell_type": "code",
      "metadata": {
        "id": "VAXM-aczUEB-",
        "colab_type": "code",
        "colab": {
          "base_uri": "https://localhost:8080/",
          "height": 544
        },
        "outputId": "3aa1891f-e42b-4bf3-e35a-63c965c2968f"
      },
      "source": [
        "cln_df.info()"
      ],
      "execution_count": null,
      "outputs": [
        {
          "output_type": "stream",
          "text": [
            "<class 'pandas.core.frame.DataFrame'>\n",
            "Int64Index: 9994 entries, 34662 to 36388\n",
            "Data columns (total 24 columns):\n",
            " #   Column          Non-Null Count  Dtype         \n",
            "---  ------          --------------  -----         \n",
            " 0   Order ID        9994 non-null   object        \n",
            " 1   Order Date      9994 non-null   datetime64[ns]\n",
            " 2   Ship Date       9994 non-null   datetime64[ns]\n",
            " 3   Ship Mode       9994 non-null   object        \n",
            " 4   Customer ID     9994 non-null   object        \n",
            " 5   Customer Name   9994 non-null   object        \n",
            " 6   Segment         9994 non-null   object        \n",
            " 7   City            9994 non-null   object        \n",
            " 8   State           9994 non-null   object        \n",
            " 9   Country         9994 non-null   object        \n",
            " 10  Postal Code     9994 non-null   float64       \n",
            " 11  Market          9994 non-null   object        \n",
            " 12  Region          9994 non-null   object        \n",
            " 13  Product ID      9994 non-null   object        \n",
            " 14  Category        9994 non-null   object        \n",
            " 15  Sub-Category    9994 non-null   object        \n",
            " 16  Product Name    9994 non-null   object        \n",
            " 17  Sales           9994 non-null   float64       \n",
            " 18  Quantity        9994 non-null   int64         \n",
            " 19  Discount        9994 non-null   float64       \n",
            " 20  Profit          9994 non-null   float64       \n",
            " 21  Shipping Cost   9994 non-null   float64       \n",
            " 22  Order Priority  9994 non-null   object        \n",
            " 23  Year            9994 non-null   int64         \n",
            "dtypes: datetime64[ns](2), float64(5), int64(2), object(15)\n",
            "memory usage: 1.9+ MB\n"
          ],
          "name": "stdout"
        }
      ]
    },
    {
      "cell_type": "code",
      "metadata": {
        "id": "o30HeNq-veZb",
        "colab_type": "code",
        "colab": {
          "base_uri": "https://localhost:8080/",
          "height": 34
        },
        "outputId": "2cfd7e4b-b005-4cd6-87e0-93c79f2f1eb9"
      },
      "source": [
        "df['Profit'].mean()"
      ],
      "execution_count": null,
      "outputs": [
        {
          "output_type": "execute_result",
          "data": {
            "text/plain": [
              "28.61098247767566"
            ]
          },
          "metadata": {
            "tags": []
          },
          "execution_count": 23
        }
      ]
    },
    {
      "cell_type": "markdown",
      "metadata": {
        "id": "x8kkELagEFyn",
        "colab_type": "text"
      },
      "source": [
        "### Distribution Plot"
      ]
    },
    {
      "cell_type": "code",
      "metadata": {
        "id": "fD0YPdN2v8uY",
        "colab_type": "code",
        "colab": {
          "base_uri": "https://localhost:8080/",
          "height": 296
        },
        "outputId": "18674a93-ca8c-4084-cf5a-970d0a1ee268"
      },
      "source": [
        "sns.distplot(df['Profit'])"
      ],
      "execution_count": null,
      "outputs": [
        {
          "output_type": "execute_result",
          "data": {
            "text/plain": [
              "<matplotlib.axes._subplots.AxesSubplot at 0x7f3f2ce829b0>"
            ]
          },
          "metadata": {
            "tags": []
          },
          "execution_count": 24
        },
        {
          "output_type": "display_data",
          "data": {
            "image/png": "[encoded data removed]",
            "text/plain": [
              "<Figure size 432x288 with 1 Axes>"
            ]
          },
          "metadata": {
            "tags": [],
            "needs_background": "light"
          }
        }
      ]
    },
    {
      "cell_type": "markdown",
      "metadata": {
        "id": "4pg6yGMuD5rv",
        "colab_type": "text"
      },
      "source": [
        "### Density Plot"
      ]
    },
    {
      "cell_type": "code",
      "metadata": {
        "id": "zPEcRggtwaVe",
        "colab_type": "code",
        "colab": {
          "base_uri": "https://localhost:8080/",
          "height": 459
        },
        "outputId": "1e73cf14-1406-4aa0-a70c-eb85d4922b6c"
      },
      "source": [
        "var = df['Profit'].plot(kind='density', figsize=(13, 7))\n",
        "var.set_xlabel('Raw ID')\n",
        "var.set_ylabel('Profit')\n",
        "var.axvline(df['Profit'].mean(), color='green')\n",
        "var.axvline(df['Profit'].median(), color='red')"
      ],
      "execution_count": null,
      "outputs": [
        {
          "output_type": "execute_result",
          "data": {
            "text/plain": [
              "<matplotlib.lines.Line2D at 0x7f3f2c945dd8>"
            ]
          },
          "metadata": {
            "tags": []
          },
          "execution_count": 25
        },
        {
          "output_type": "display_data",
          "data": {
            "image/png": "[encoded data removed]",
            "text/plain": [
              "<Figure size 936x504 with 1 Axes>"
            ]
          },
          "metadata": {
            "tags": [],
            "needs_background": "light"
          }
        }
      ]
    },
    {
      "cell_type": "code",
      "metadata": {
        "id": "M0_hz7_HA7VI",
        "colab_type": "code",
        "colab": {
          "base_uri": "https://localhost:8080/",
          "height": 514
        },
        "outputId": "9cdddbb2-0ec4-4852-cf25-c8b314072da8"
      },
      "source": [
        "var2 = df['Sales'].plot(kind='density', figsize=(13, 8))\n",
        "var2.set_xlabel('Raw ID')\n",
        "var2.set_ylabel('Sales')\n",
        "var2.axvline(df['Sales'].mean(), color='green')\n",
        "var2.axvline(df['Sales'].median(), color='red')"
      ],
      "execution_count": null,
      "outputs": [
        {
          "output_type": "execute_result",
          "data": {
            "text/plain": [
              "<matplotlib.lines.Line2D at 0x7f3f2a0c2be0>"
            ]
          },
          "metadata": {
            "tags": []
          },
          "execution_count": 26
        },
        {
          "output_type": "display_data",
          "data": {
            "image/png": "[encoded data removed]",
            "text/plain": [
              "<Figure size 936x576 with 1 Axes>"
            ]
          },
          "metadata": {
            "tags": [],
            "needs_background": "light"
          }
        }
      ]
    },
    {
      "cell_type": "markdown",
      "metadata": {
        "id": "BsdNAS2ZDWXU",
        "colab_type": "text"
      },
      "source": [
        "Inabove way we plotting directly using pandas "
      ]
    },
    {
      "cell_type": "code",
      "metadata": {
        "id": "UR0mBHloC-cb",
        "colab_type": "code",
        "colab": {
          "base_uri": "https://localhost:8080/",
          "height": 282
        },
        "outputId": "7be62314-45c9-43b8-e316-96cc91dc4a32"
      },
      "source": [
        "plt.scatter(df['Sales'], df['Profit'])"
      ],
      "execution_count": null,
      "outputs": [
        {
          "output_type": "execute_result",
          "data": {
            "text/plain": [
              "<matplotlib.collections.PathCollection at 0x7f3f2a049588>"
            ]
          },
          "metadata": {
            "tags": []
          },
          "execution_count": 27
        },
        {
          "output_type": "display_data",
          "data": {
            "image/png": "[encoded data removed]",
            "text/plain": [
              "<Figure size 432x288 with 1 Axes>"
            ]
          },
          "metadata": {
            "tags": [],
            "needs_background": "light"
          }
        }
      ]
    },
    {
      "cell_type": "code",
      "metadata": {
        "id": "cc097-wZUiKH",
        "colab_type": "code",
        "colab": {
          "base_uri": "https://localhost:8080/",
          "height": 494
        },
        "outputId": "c4f5854d-e135-479e-bcbd-03371b48044b"
      },
      "source": [
        "df['Category'].value_counts().plot(kind='pie', figsize=(8,18))"
      ],
      "execution_count": null,
      "outputs": [
        {
          "output_type": "execute_result",
          "data": {
            "text/plain": [
              "<matplotlib.axes._subplots.AxesSubplot at 0x7f3f2a0107b8>"
            ]
          },
          "metadata": {
            "tags": []
          },
          "execution_count": 28
        },
        {
          "output_type": "display_data",
          "data": {
            "image/png": "[encoded data removed]",
            "text/plain": [
              "<Figure size 576x1296 with 1 Axes>"
            ]
          },
          "metadata": {
            "tags": []
          }
        }
      ]
    },
    {
      "cell_type": "code",
      "metadata": {
        "id": "euhg4tJeYBCD",
        "colab_type": "code",
        "colab": {
          "base_uri": "https://localhost:8080/",
          "height": 347
        },
        "outputId": "5bb277b9-b6de-48ac-f9df-19ac3049edf3"
      },
      "source": [
        "df['Category'].value_counts().plot(kind='bar')"
      ],
      "execution_count": null,
      "outputs": [
        {
          "output_type": "execute_result",
          "data": {
            "text/plain": [
              "<matplotlib.axes._subplots.AxesSubplot at 0x7f3f2c93fa58>"
            ]
          },
          "metadata": {
            "tags": []
          },
          "execution_count": 29
        },
        {
          "output_type": "display_data",
          "data": {
            "image/png": "[encoded data removed]",
            "text/plain": [
              "<Figure size 432x288 with 1 Axes>"
            ]
          },
          "metadata": {
            "tags": [],
            "needs_background": "light"
          }
        }
      ]
    },
    {
      "cell_type": "code",
      "metadata": {
        "id": "c-KFXJR0ZOEB",
        "colab_type": "code",
        "colab": {
          "base_uri": "https://localhost:8080/",
          "height": 266
        },
        "outputId": "1c6eff29-6593-498f-dbe7-daf950c1d9ec"
      },
      "source": [
        "corr = df.corr()\n",
        "corr"
      ],
      "execution_count": null,
      "outputs": [
        {
          "output_type": "execute_result",
          "data": {
            "text/html": [
              "<div>\n",
              "<style scoped>\n",
              "    .dataframe tbody tr th:only-of-type {\n",
              "        vertical-align: middle;\n",
              "    }\n",
              "\n",
              "    .dataframe tbody tr th {\n",
              "        vertical-align: top;\n",
              "    }\n",
              "\n",
              "    .dataframe thead th {\n",
              "        text-align: right;\n",
              "    }\n",
              "</style>\n",
              "<table border=\"1\" class=\"dataframe\">\n",
              "  <thead>\n",
              "    <tr style=\"text-align: right;\">\n",
              "      <th></th>\n",
              "      <th>Postal Code</th>\n",
              "      <th>Sales</th>\n",
              "      <th>Quantity</th>\n",
              "      <th>Discount</th>\n",
              "      <th>Profit</th>\n",
              "      <th>Shipping Cost</th>\n",
              "      <th>Year</th>\n",
              "    </tr>\n",
              "  </thead>\n",
              "  <tbody>\n",
              "    <tr>\n",
              "      <th>Postal Code</th>\n",
              "      <td>1.000000</td>\n",
              "      <td>-0.023854</td>\n",
              "      <td>0.012761</td>\n",
              "      <td>0.058443</td>\n",
              "      <td>-0.029961</td>\n",
              "      <td>-0.025449</td>\n",
              "      <td>0.004539</td>\n",
              "    </tr>\n",
              "    <tr>\n",
              "      <th>Sales</th>\n",
              "      <td>-0.023854</td>\n",
              "      <td>1.000000</td>\n",
              "      <td>0.313577</td>\n",
              "      <td>-0.086722</td>\n",
              "      <td>0.484918</td>\n",
              "      <td>0.768073</td>\n",
              "      <td>-0.002905</td>\n",
              "    </tr>\n",
              "    <tr>\n",
              "      <th>Quantity</th>\n",
              "      <td>0.012761</td>\n",
              "      <td>0.313577</td>\n",
              "      <td>1.000000</td>\n",
              "      <td>-0.019875</td>\n",
              "      <td>0.104365</td>\n",
              "      <td>0.272649</td>\n",
              "      <td>-0.005049</td>\n",
              "    </tr>\n",
              "    <tr>\n",
              "      <th>Discount</th>\n",
              "      <td>0.058443</td>\n",
              "      <td>-0.086722</td>\n",
              "      <td>-0.019875</td>\n",
              "      <td>1.000000</td>\n",
              "      <td>-0.316490</td>\n",
              "      <td>-0.079056</td>\n",
              "      <td>-0.005894</td>\n",
              "    </tr>\n",
              "    <tr>\n",
              "      <th>Profit</th>\n",
              "      <td>-0.029961</td>\n",
              "      <td>0.484918</td>\n",
              "      <td>0.104365</td>\n",
              "      <td>-0.316490</td>\n",
              "      <td>1.000000</td>\n",
              "      <td>0.354441</td>\n",
              "      <td>0.002626</td>\n",
              "    </tr>\n",
              "    <tr>\n",
              "      <th>Shipping Cost</th>\n",
              "      <td>-0.025449</td>\n",
              "      <td>0.768073</td>\n",
              "      <td>0.272649</td>\n",
              "      <td>-0.079056</td>\n",
              "      <td>0.354441</td>\n",
              "      <td>1.000000</td>\n",
              "      <td>-0.003136</td>\n",
              "    </tr>\n",
              "    <tr>\n",
              "      <th>Year</th>\n",
              "      <td>0.004539</td>\n",
              "      <td>-0.002905</td>\n",
              "      <td>-0.005049</td>\n",
              "      <td>-0.005894</td>\n",
              "      <td>0.002626</td>\n",
              "      <td>-0.003136</td>\n",
              "      <td>1.000000</td>\n",
              "    </tr>\n",
              "  </tbody>\n",
              "</table>\n",
              "</div>"
            ],
            "text/plain": [
              "               Postal Code     Sales  ...  Shipping Cost      Year\n",
              "Postal Code       1.000000 -0.023854  ...      -0.025449  0.004539\n",
              "Sales            -0.023854  1.000000  ...       0.768073 -0.002905\n",
              "Quantity          0.012761  0.313577  ...       0.272649 -0.005049\n",
              "Discount          0.058443 -0.086722  ...      -0.079056 -0.005894\n",
              "Profit           -0.029961  0.484918  ...       0.354441  0.002626\n",
              "Shipping Cost    -0.025449  0.768073  ...       1.000000 -0.003136\n",
              "Year              0.004539 -0.002905  ...      -0.003136  1.000000\n",
              "\n",
              "[7 rows x 7 columns]"
            ]
          },
          "metadata": {
            "tags": []
          },
          "execution_count": 30
        }
      ]
    },
    {
      "cell_type": "code",
      "metadata": {
        "id": "Xulh1i37eGR-",
        "colab_type": "code",
        "colab": {}
      },
      "source": [
        "# sns.heatmap(df)"
      ],
      "execution_count": null,
      "outputs": []
    },
    {
      "cell_type": "code",
      "metadata": {
        "id": "HyrW9det1_sM",
        "colab_type": "code",
        "colab": {
          "base_uri": "https://localhost:8080/",
          "height": 666
        },
        "outputId": "7551963c-e676-4b87-acb5-b05d9d556520"
      },
      "source": [
        "corr = df.corr()\n",
        "fig = plt.figure(figsize=(11,11))\n",
        "ax = plt.subplot()\n",
        "ax.matshow(corr)\n",
        "\n",
        "# fig = plt.figure(figsize=(11,11))"
      ],
      "execution_count": null,
      "outputs": [
        {
          "output_type": "execute_result",
          "data": {
            "text/plain": [
              "<matplotlib.image.AxesImage at 0x7f3f2a00acf8>"
            ]
          },
          "metadata": {
            "tags": []
          },
          "execution_count": 32
        },
        {
          "output_type": "display_data",
          "data": {
            "image/png": "[encoded data removed]",
            "text/plain": [
              "<Figure size 792x792 with 1 Axes>"
            ]
          },
          "metadata": {
            "tags": [],
            "needs_background": "light"
          }
        }
      ]
    },
    {
      "cell_type": "code",
      "metadata": {
        "id": "QTEnqlLy3WeS",
        "colab_type": "code",
        "colab": {
          "base_uri": "https://localhost:8080/",
          "height": 724
        },
        "outputId": "08570358-3486-4224-b8df-b60b3acf50c6"
      },
      "source": [
        "fig = plt.figure(figsize=(11,11))\n",
        "plt.matshow(corr, cmap='RdBu', fignum=fig.number)\n",
        "plt.xticks(range(len(corr.columns)), corr.columns, rotation='vertical')\n",
        "plt.yticks(range(len(corr.columns)), corr.columns)\n",
        "plt.show()\n",
        "\n",
        "# Dark blue indicates values are highly positively corelated\n",
        "# Dark Red indicates values are highly negatively corelated"
      ],
      "execution_count": null,
      "outputs": [
        {
          "output_type": "display_data",
          "data": {
            "image/png": "[encoded data removed]",
            "text/plain": [
              "<Figure size 792x792 with 1 Axes>"
            ]
          },
          "metadata": {
            "tags": [],
            "needs_background": "light"
          }
        }
      ]
    },
    {
      "cell_type": "code",
      "metadata": {
        "id": "-gE8CVr76_Xy",
        "colab_type": "code",
        "colab": {
          "base_uri": "https://localhost:8080/",
          "height": 235
        },
        "outputId": "5a573361-222e-406b-a5ad-90c6ea1e4456"
      },
      "source": [
        "# Slicing Data Frame\n",
        "# Accessing all numeric column\n",
        "sldf = df.iloc[:, 17:].head()\n",
        "# ax = sns.heatmap(sldf)\n",
        "sldf"
      ],
      "execution_count": null,
      "outputs": [
        {
          "output_type": "execute_result",
          "data": {
            "text/html": [
              "<div>\n",
              "<style scoped>\n",
              "    .dataframe tbody tr th:only-of-type {\n",
              "        vertical-align: middle;\n",
              "    }\n",
              "\n",
              "    .dataframe tbody tr th {\n",
              "        vertical-align: top;\n",
              "    }\n",
              "\n",
              "    .dataframe thead th {\n",
              "        text-align: right;\n",
              "    }\n",
              "</style>\n",
              "<table border=\"1\" class=\"dataframe\">\n",
              "  <thead>\n",
              "    <tr style=\"text-align: right;\">\n",
              "      <th></th>\n",
              "      <th>Sales</th>\n",
              "      <th>Quantity</th>\n",
              "      <th>Discount</th>\n",
              "      <th>Profit</th>\n",
              "      <th>Shipping Cost</th>\n",
              "      <th>Order Priority</th>\n",
              "      <th>Year</th>\n",
              "    </tr>\n",
              "    <tr>\n",
              "      <th>Row ID</th>\n",
              "      <th></th>\n",
              "      <th></th>\n",
              "      <th></th>\n",
              "      <th></th>\n",
              "      <th></th>\n",
              "      <th></th>\n",
              "      <th></th>\n",
              "    </tr>\n",
              "  </thead>\n",
              "  <tbody>\n",
              "    <tr>\n",
              "      <th>42433</th>\n",
              "      <td>408.300</td>\n",
              "      <td>2</td>\n",
              "      <td>0.0</td>\n",
              "      <td>106.140</td>\n",
              "      <td>35.46</td>\n",
              "      <td>Medium</td>\n",
              "      <td>2011</td>\n",
              "    </tr>\n",
              "    <tr>\n",
              "      <th>22253</th>\n",
              "      <td>120.366</td>\n",
              "      <td>3</td>\n",
              "      <td>0.1</td>\n",
              "      <td>36.036</td>\n",
              "      <td>9.72</td>\n",
              "      <td>Medium</td>\n",
              "      <td>2011</td>\n",
              "    </tr>\n",
              "    <tr>\n",
              "      <th>48883</th>\n",
              "      <td>66.120</td>\n",
              "      <td>4</td>\n",
              "      <td>0.0</td>\n",
              "      <td>29.640</td>\n",
              "      <td>8.17</td>\n",
              "      <td>High</td>\n",
              "      <td>2011</td>\n",
              "    </tr>\n",
              "    <tr>\n",
              "      <th>11731</th>\n",
              "      <td>44.865</td>\n",
              "      <td>3</td>\n",
              "      <td>0.5</td>\n",
              "      <td>-26.055</td>\n",
              "      <td>4.82</td>\n",
              "      <td>High</td>\n",
              "      <td>2011</td>\n",
              "    </tr>\n",
              "    <tr>\n",
              "      <th>22255</th>\n",
              "      <td>113.670</td>\n",
              "      <td>5</td>\n",
              "      <td>0.1</td>\n",
              "      <td>37.770</td>\n",
              "      <td>4.70</td>\n",
              "      <td>Medium</td>\n",
              "      <td>2011</td>\n",
              "    </tr>\n",
              "  </tbody>\n",
              "</table>\n",
              "</div>"
            ],
            "text/plain": [
              "          Sales  Quantity  Discount  ...  Shipping Cost  Order Priority  Year\n",
              "Row ID                               ...                                     \n",
              "42433   408.300         2       0.0  ...          35.46          Medium  2011\n",
              "22253   120.366         3       0.1  ...           9.72          Medium  2011\n",
              "48883    66.120         4       0.0  ...           8.17            High  2011\n",
              "11731    44.865         3       0.5  ...           4.82            High  2011\n",
              "22255   113.670         5       0.1  ...           4.70          Medium  2011\n",
              "\n",
              "[5 rows x 7 columns]"
            ]
          },
          "metadata": {
            "tags": []
          },
          "execution_count": 34
        }
      ]
    },
    {
      "cell_type": "code",
      "metadata": {
        "id": "jgMvoUpZ9jFB",
        "colab_type": "code",
        "colab": {
          "base_uri": "https://localhost:8080/",
          "height": 544
        },
        "outputId": "4a191aee-5f76-4e34-cfb2-125d8b0cf3ee"
      },
      "source": [
        "df.info()"
      ],
      "execution_count": null,
      "outputs": [
        {
          "output_type": "stream",
          "text": [
            "<class 'pandas.core.frame.DataFrame'>\n",
            "Int64Index: 51290 entries, 42433 to 36388\n",
            "Data columns (total 24 columns):\n",
            " #   Column          Non-Null Count  Dtype         \n",
            "---  ------          --------------  -----         \n",
            " 0   Order ID        51290 non-null  object        \n",
            " 1   Order Date      51290 non-null  datetime64[ns]\n",
            " 2   Ship Date       51290 non-null  datetime64[ns]\n",
            " 3   Ship Mode       51290 non-null  object        \n",
            " 4   Customer ID     51290 non-null  object        \n",
            " 5   Customer Name   51290 non-null  object        \n",
            " 6   Segment         51290 non-null  object        \n",
            " 7   City            51290 non-null  object        \n",
            " 8   State           51290 non-null  object        \n",
            " 9   Country         51290 non-null  object        \n",
            " 10  Postal Code     9994 non-null   float64       \n",
            " 11  Market          51290 non-null  object        \n",
            " 12  Region          51290 non-null  object        \n",
            " 13  Product ID      51290 non-null  object        \n",
            " 14  Category        51290 non-null  object        \n",
            " 15  Sub-Category    51290 non-null  object        \n",
            " 16  Product Name    51290 non-null  object        \n",
            " 17  Sales           51290 non-null  float64       \n",
            " 18  Quantity        51290 non-null  int64         \n",
            " 19  Discount        51290 non-null  float64       \n",
            " 20  Profit          51290 non-null  float64       \n",
            " 21  Shipping Cost   51290 non-null  float64       \n",
            " 22  Order Priority  51290 non-null  object        \n",
            " 23  Year            51290 non-null  int64         \n",
            "dtypes: datetime64[ns](2), float64(5), int64(2), object(15)\n",
            "memory usage: 9.8+ MB\n"
          ],
          "name": "stdout"
        }
      ]
    },
    {
      "cell_type": "code",
      "metadata": {
        "id": "Wfb9rJL--1w9",
        "colab_type": "code",
        "colab": {
          "base_uri": "https://localhost:8080/",
          "height": 629
        },
        "outputId": "02c9b9c4-44c2-46ec-f78d-ce4bf70fa713"
      },
      "source": [
        "cln_df.head()"
      ],
      "execution_count": null,
      "outputs": [
        {
          "output_type": "execute_result",
          "data": {
            "text/html": [
              "<div>\n",
              "<style scoped>\n",
              "    .dataframe tbody tr th:only-of-type {\n",
              "        vertical-align: middle;\n",
              "    }\n",
              "\n",
              "    .dataframe tbody tr th {\n",
              "        vertical-align: top;\n",
              "    }\n",
              "\n",
              "    .dataframe thead th {\n",
              "        text-align: right;\n",
              "    }\n",
              "</style>\n",
              "<table border=\"1\" class=\"dataframe\">\n",
              "  <thead>\n",
              "    <tr style=\"text-align: right;\">\n",
              "      <th></th>\n",
              "      <th>Order ID</th>\n",
              "      <th>Order Date</th>\n",
              "      <th>Ship Date</th>\n",
              "      <th>Ship Mode</th>\n",
              "      <th>Customer ID</th>\n",
              "      <th>Customer Name</th>\n",
              "      <th>Segment</th>\n",
              "      <th>City</th>\n",
              "      <th>State</th>\n",
              "      <th>Country</th>\n",
              "      <th>Postal Code</th>\n",
              "      <th>Market</th>\n",
              "      <th>Region</th>\n",
              "      <th>Product ID</th>\n",
              "      <th>Category</th>\n",
              "      <th>Sub-Category</th>\n",
              "      <th>Product Name</th>\n",
              "      <th>Sales</th>\n",
              "      <th>Quantity</th>\n",
              "      <th>Discount</th>\n",
              "      <th>Profit</th>\n",
              "      <th>Shipping Cost</th>\n",
              "      <th>Order Priority</th>\n",
              "      <th>Year</th>\n",
              "    </tr>\n",
              "    <tr>\n",
              "      <th>Row ID</th>\n",
              "      <th></th>\n",
              "      <th></th>\n",
              "      <th></th>\n",
              "      <th></th>\n",
              "      <th></th>\n",
              "      <th></th>\n",
              "      <th></th>\n",
              "      <th></th>\n",
              "      <th></th>\n",
              "      <th></th>\n",
              "      <th></th>\n",
              "      <th></th>\n",
              "      <th></th>\n",
              "      <th></th>\n",
              "      <th></th>\n",
              "      <th></th>\n",
              "      <th></th>\n",
              "      <th></th>\n",
              "      <th></th>\n",
              "      <th></th>\n",
              "      <th></th>\n",
              "      <th></th>\n",
              "      <th></th>\n",
              "      <th></th>\n",
              "    </tr>\n",
              "  </thead>\n",
              "  <tbody>\n",
              "    <tr>\n",
              "      <th>34662</th>\n",
              "      <td>CA-2011-115161</td>\n",
              "      <td>2011-01-02</td>\n",
              "      <td>2011-03-02</td>\n",
              "      <td>First Class</td>\n",
              "      <td>LC-17050</td>\n",
              "      <td>Liz Carlisle</td>\n",
              "      <td>Consumer</td>\n",
              "      <td>Mission Viejo</td>\n",
              "      <td>California</td>\n",
              "      <td>United States</td>\n",
              "      <td>92691.0</td>\n",
              "      <td>US</td>\n",
              "      <td>West</td>\n",
              "      <td>FUR-BO-10003966</td>\n",
              "      <td>Furniture</td>\n",
              "      <td>Bookcases</td>\n",
              "      <td>Sauder Facets Collection Library, Sky Alder Fi...</td>\n",
              "      <td>290.666</td>\n",
              "      <td>2</td>\n",
              "      <td>0.15</td>\n",
              "      <td>3.4196</td>\n",
              "      <td>54.64</td>\n",
              "      <td>High</td>\n",
              "      <td>2011</td>\n",
              "    </tr>\n",
              "    <tr>\n",
              "      <th>37844</th>\n",
              "      <td>CA-2011-113880</td>\n",
              "      <td>2011-01-03</td>\n",
              "      <td>2011-05-03</td>\n",
              "      <td>Standard Class</td>\n",
              "      <td>VF-21715</td>\n",
              "      <td>Vicky Freymann</td>\n",
              "      <td>Home Office</td>\n",
              "      <td>Elmhurst</td>\n",
              "      <td>Illinois</td>\n",
              "      <td>United States</td>\n",
              "      <td>60126.0</td>\n",
              "      <td>US</td>\n",
              "      <td>Central</td>\n",
              "      <td>FUR-CH-10000863</td>\n",
              "      <td>Furniture</td>\n",
              "      <td>Chairs</td>\n",
              "      <td>Novimex Swivel Fabric Task Chair</td>\n",
              "      <td>634.116</td>\n",
              "      <td>6</td>\n",
              "      <td>0.30</td>\n",
              "      <td>-172.1172</td>\n",
              "      <td>70.05</td>\n",
              "      <td>High</td>\n",
              "      <td>2011</td>\n",
              "    </tr>\n",
              "    <tr>\n",
              "      <th>31454</th>\n",
              "      <td>CA-2011-104269</td>\n",
              "      <td>2011-01-03</td>\n",
              "      <td>2011-06-03</td>\n",
              "      <td>Second Class</td>\n",
              "      <td>DB-13060</td>\n",
              "      <td>Dave Brooks</td>\n",
              "      <td>Consumer</td>\n",
              "      <td>Seattle</td>\n",
              "      <td>Washington</td>\n",
              "      <td>United States</td>\n",
              "      <td>98115.0</td>\n",
              "      <td>US</td>\n",
              "      <td>West</td>\n",
              "      <td>FUR-CH-10004063</td>\n",
              "      <td>Furniture</td>\n",
              "      <td>Chairs</td>\n",
              "      <td>Global Deluxe High-Back Manager's Chair</td>\n",
              "      <td>457.568</td>\n",
              "      <td>2</td>\n",
              "      <td>0.20</td>\n",
              "      <td>51.4764</td>\n",
              "      <td>47.89</td>\n",
              "      <td>Medium</td>\n",
              "      <td>2011</td>\n",
              "    </tr>\n",
              "    <tr>\n",
              "      <th>39607</th>\n",
              "      <td>CA-2011-168312</td>\n",
              "      <td>2011-01-03</td>\n",
              "      <td>2011-07-03</td>\n",
              "      <td>Standard Class</td>\n",
              "      <td>GW-14605</td>\n",
              "      <td>Giulietta Weimer</td>\n",
              "      <td>Consumer</td>\n",
              "      <td>Houston</td>\n",
              "      <td>Texas</td>\n",
              "      <td>United States</td>\n",
              "      <td>77036.0</td>\n",
              "      <td>US</td>\n",
              "      <td>Central</td>\n",
              "      <td>FUR-TA-10001866</td>\n",
              "      <td>Furniture</td>\n",
              "      <td>Tables</td>\n",
              "      <td>Bevis Round Conference Room Tables and Bases</td>\n",
              "      <td>376.509</td>\n",
              "      <td>3</td>\n",
              "      <td>0.30</td>\n",
              "      <td>-43.0296</td>\n",
              "      <td>32.70</td>\n",
              "      <td>Medium</td>\n",
              "      <td>2011</td>\n",
              "    </tr>\n",
              "    <tr>\n",
              "      <th>39245</th>\n",
              "      <td>CA-2011-131009</td>\n",
              "      <td>2011-01-03</td>\n",
              "      <td>2011-05-03</td>\n",
              "      <td>Standard Class</td>\n",
              "      <td>SC-20380</td>\n",
              "      <td>Shahid Collister</td>\n",
              "      <td>Consumer</td>\n",
              "      <td>El Paso</td>\n",
              "      <td>Texas</td>\n",
              "      <td>United States</td>\n",
              "      <td>79907.0</td>\n",
              "      <td>US</td>\n",
              "      <td>Central</td>\n",
              "      <td>FUR-CH-10001270</td>\n",
              "      <td>Furniture</td>\n",
              "      <td>Chairs</td>\n",
              "      <td>Harbour Creations Steel Folding Chair</td>\n",
              "      <td>362.250</td>\n",
              "      <td>6</td>\n",
              "      <td>0.30</td>\n",
              "      <td>0.0000</td>\n",
              "      <td>25.22</td>\n",
              "      <td>Medium</td>\n",
              "      <td>2011</td>\n",
              "    </tr>\n",
              "  </tbody>\n",
              "</table>\n",
              "</div>"
            ],
            "text/plain": [
              "              Order ID Order Date  ... Order Priority  Year\n",
              "Row ID                             ...                     \n",
              "34662   CA-2011-115161 2011-01-02  ...           High  2011\n",
              "37844   CA-2011-113880 2011-01-03  ...           High  2011\n",
              "31454   CA-2011-104269 2011-01-03  ...         Medium  2011\n",
              "39607   CA-2011-168312 2011-01-03  ...         Medium  2011\n",
              "39245   CA-2011-131009 2011-01-03  ...         Medium  2011\n",
              "\n",
              "[5 rows x 24 columns]"
            ]
          },
          "metadata": {
            "tags": []
          },
          "execution_count": 36
        }
      ]
    },
    {
      "cell_type": "code",
      "metadata": {
        "id": "gm71jvfFW_t7",
        "colab_type": "code",
        "colab": {
          "base_uri": "https://localhost:8080/",
          "height": 199
        },
        "outputId": "2176d26c-4a25-47b6-ec07-b9b386397bf2"
      },
      "source": [
        "# cln_df['Region'].value_counts().plot(kind='bar')\n",
        "\n",
        "south_region = cln_df.loc[df['Region']=='South']\n",
        "south_region.head(1)"
      ],
      "execution_count": null,
      "outputs": [
        {
          "output_type": "execute_result",
          "data": {
            "text/html": [
              "<div>\n",
              "<style scoped>\n",
              "    .dataframe tbody tr th:only-of-type {\n",
              "        vertical-align: middle;\n",
              "    }\n",
              "\n",
              "    .dataframe tbody tr th {\n",
              "        vertical-align: top;\n",
              "    }\n",
              "\n",
              "    .dataframe thead th {\n",
              "        text-align: right;\n",
              "    }\n",
              "</style>\n",
              "<table border=\"1\" class=\"dataframe\">\n",
              "  <thead>\n",
              "    <tr style=\"text-align: right;\">\n",
              "      <th></th>\n",
              "      <th>Order ID</th>\n",
              "      <th>Order Date</th>\n",
              "      <th>Ship Date</th>\n",
              "      <th>Ship Mode</th>\n",
              "      <th>Customer ID</th>\n",
              "      <th>Customer Name</th>\n",
              "      <th>Segment</th>\n",
              "      <th>City</th>\n",
              "      <th>State</th>\n",
              "      <th>Country</th>\n",
              "      <th>Postal Code</th>\n",
              "      <th>Market</th>\n",
              "      <th>Region</th>\n",
              "      <th>Product ID</th>\n",
              "      <th>Category</th>\n",
              "      <th>Sub-Category</th>\n",
              "      <th>Product Name</th>\n",
              "      <th>Sales</th>\n",
              "      <th>Quantity</th>\n",
              "      <th>Discount</th>\n",
              "      <th>Profit</th>\n",
              "      <th>Shipping Cost</th>\n",
              "      <th>Order Priority</th>\n",
              "      <th>Year</th>\n",
              "    </tr>\n",
              "    <tr>\n",
              "      <th>Row ID</th>\n",
              "      <th></th>\n",
              "      <th></th>\n",
              "      <th></th>\n",
              "      <th></th>\n",
              "      <th></th>\n",
              "      <th></th>\n",
              "      <th></th>\n",
              "      <th></th>\n",
              "      <th></th>\n",
              "      <th></th>\n",
              "      <th></th>\n",
              "      <th></th>\n",
              "      <th></th>\n",
              "      <th></th>\n",
              "      <th></th>\n",
              "      <th></th>\n",
              "      <th></th>\n",
              "      <th></th>\n",
              "      <th></th>\n",
              "      <th></th>\n",
              "      <th></th>\n",
              "      <th></th>\n",
              "      <th></th>\n",
              "      <th></th>\n",
              "    </tr>\n",
              "  </thead>\n",
              "  <tbody>\n",
              "    <tr>\n",
              "      <th>33498</th>\n",
              "      <td>US-2011-165659</td>\n",
              "      <td>2011-01-06</td>\n",
              "      <td>2011-06-06</td>\n",
              "      <td>Standard Class</td>\n",
              "      <td>LT-17110</td>\n",
              "      <td>Liz Thompson</td>\n",
              "      <td>Consumer</td>\n",
              "      <td>Little Rock</td>\n",
              "      <td>Arkansas</td>\n",
              "      <td>United States</td>\n",
              "      <td>72209.0</td>\n",
              "      <td>US</td>\n",
              "      <td>South</td>\n",
              "      <td>TEC-PH-10002563</td>\n",
              "      <td>Technology</td>\n",
              "      <td>Phones</td>\n",
              "      <td>Adtran 1202752G1</td>\n",
              "      <td>881.93</td>\n",
              "      <td>7</td>\n",
              "      <td>0.0</td>\n",
              "      <td>229.3018</td>\n",
              "      <td>112.32</td>\n",
              "      <td>High</td>\n",
              "      <td>2011</td>\n",
              "    </tr>\n",
              "  </tbody>\n",
              "</table>\n",
              "</div>"
            ],
            "text/plain": [
              "              Order ID Order Date  ... Order Priority  Year\n",
              "Row ID                             ...                     \n",
              "33498   US-2011-165659 2011-01-06  ...           High  2011\n",
              "\n",
              "[1 rows x 24 columns]"
            ]
          },
          "metadata": {
            "tags": []
          },
          "execution_count": 53
        }
      ]
    },
    {
      "cell_type": "markdown",
      "metadata": {
        "id": "eVEVQCvH7Z7p",
        "colab_type": "text"
      },
      "source": [
        "### Number of unique values in ['Region'] column"
      ]
    },
    {
      "cell_type": "code",
      "metadata": {
        "id": "y71mjQAtkMpB",
        "colab_type": "code",
        "colab": {
          "base_uri": "https://localhost:8080/",
          "height": 309
        },
        "outputId": "57671df9-8231-4d15-8b07-54dc33c5dab2"
      },
      "source": [
        "cln_df['Region'].value_counts().plot(kind='bar', color='red')"
      ],
      "execution_count": null,
      "outputs": [
        {
          "output_type": "execute_result",
          "data": {
            "text/plain": [
              "<matplotlib.axes._subplots.AxesSubplot at 0x7f3f29e7f240>"
            ]
          },
          "metadata": {
            "tags": []
          },
          "execution_count": 38
        },
        {
          "output_type": "display_data",
          "data": {
            "image/png": "[encoded data removed]",
            "text/plain": [
              "<Figure size 432x288 with 1 Axes>"
            ]
          },
          "metadata": {
            "tags": [],
            "needs_background": "light"
          }
        }
      ]
    },
    {
      "cell_type": "code",
      "metadata": {
        "id": "sscFX6q4jRpp",
        "colab_type": "code",
        "colab": {
          "base_uri": "https://localhost:8080/",
          "height": 34
        },
        "outputId": "2033ab0d-0bd3-4f94-9f62-bdffaad4e58e"
      },
      "source": [
        "len(south_region)"
      ],
      "execution_count": null,
      "outputs": [
        {
          "output_type": "execute_result",
          "data": {
            "text/plain": [
              "1620"
            ]
          },
          "metadata": {
            "tags": []
          },
          "execution_count": 39
        }
      ]
    },
    {
      "cell_type": "code",
      "metadata": {
        "id": "6BWJeLTIh01c",
        "colab_type": "code",
        "colab": {}
      },
      "source": [
        "south_region = len(cln_df.loc[cln_df['Region'] == 'South'])\n",
        "central_region = len(cln_df.loc[cln_df['Region'] == 'Central'])\n",
        "east_region = len(cln_df.loc[cln_df['Region'] == 'East'])\n",
        "west_region = len(cln_df.loc[cln_df['Region'] == 'West'])"
      ],
      "execution_count": null,
      "outputs": []
    },
    {
      "cell_type": "code",
      "metadata": {
        "id": "ZX8S2DJJlHrP",
        "colab_type": "code",
        "colab": {
          "base_uri": "https://localhost:8080/",
          "height": 85
        },
        "outputId": "f7171b2b-d29e-4f70-827d-289a93e2ef13"
      },
      "source": [
        "print(f\"Parcent of Sales in West Region: {round((west_region/(west_region+east_region+central_region+south_region)*100), 2)} % - Number of Sales: {west_region}\")\n",
        "print(f\"Parcent of Sales in East Region: {round((east_region/(west_region+east_region+central_region+south_region)*100),2)} % - Number of Sales: {east_region}\")\n",
        "print(f\"Parcent of Sales in Central Region: {round((central_region/(west_region+east_region+central_region+south_region)*100), 2)} % - Number of Sales: {central_region}\")\n",
        "print(f\"Parcent of Sales in South Region: {round((south_region/(west_region+east_region+central_region+south_region)*100), 2)} % - Number of Sales: {south_region}\")"
      ],
      "execution_count": null,
      "outputs": [
        {
          "output_type": "stream",
          "text": [
            "Parcent of Sales in West Region: 32.05 % - Number of Sales: 3203\n",
            "Parcent of Sales in East Region: 28.5 % - Number of Sales: 2848\n",
            "Parcent of Sales in Central Region: 23.24 % - Number of Sales: 2323\n",
            "Parcent of Sales in South Region: 16.21 % - Number of Sales: 1620\n"
          ],
          "name": "stdout"
        }
      ]
    },
    {
      "cell_type": "code",
      "metadata": {
        "id": "9x5GWT75omSo",
        "colab_type": "code",
        "colab": {
          "base_uri": "https://localhost:8080/",
          "height": 119
        },
        "outputId": "99e51bd3-ac1d-4d02-a114-1a3d36adc359"
      },
      "source": [
        "cln_df['Discount']*=2"
      ],
      "execution_count": null,
      "outputs": [
        {
          "output_type": "stream",
          "text": [
            "/usr/local/lib/python3.6/dist-packages/ipykernel_launcher.py:1: SettingWithCopyWarning: \n",
            "A value is trying to be set on a copy of a slice from a DataFrame.\n",
            "Try using .loc[row_indexer,col_indexer] = value instead\n",
            "\n",
            "See the caveats in the documentation: https://pandas.pydata.org/pandas-docs/stable/user_guide/indexing.html#returning-a-view-versus-a-copy\n",
            "  \"\"\"Entry point for launching an IPython kernel.\n"
          ],
          "name": "stderr"
        }
      ]
    },
    {
      "cell_type": "code",
      "metadata": {
        "id": "hrLbV-n0gq6f",
        "colab_type": "code",
        "colab": {
          "base_uri": "https://localhost:8080/",
          "height": 235
        },
        "outputId": "37b0f0eb-4d8d-4f2b-9c97-cfa5af5b1839"
      },
      "source": [
        "cln_df[['Discount']].head()"
      ],
      "execution_count": null,
      "outputs": [
        {
          "output_type": "execute_result",
          "data": {
            "text/html": [
              "<div>\n",
              "<style scoped>\n",
              "    .dataframe tbody tr th:only-of-type {\n",
              "        vertical-align: middle;\n",
              "    }\n",
              "\n",
              "    .dataframe tbody tr th {\n",
              "        vertical-align: top;\n",
              "    }\n",
              "\n",
              "    .dataframe thead th {\n",
              "        text-align: right;\n",
              "    }\n",
              "</style>\n",
              "<table border=\"1\" class=\"dataframe\">\n",
              "  <thead>\n",
              "    <tr style=\"text-align: right;\">\n",
              "      <th></th>\n",
              "      <th>Discount</th>\n",
              "    </tr>\n",
              "    <tr>\n",
              "      <th>Row ID</th>\n",
              "      <th></th>\n",
              "    </tr>\n",
              "  </thead>\n",
              "  <tbody>\n",
              "    <tr>\n",
              "      <th>34662</th>\n",
              "      <td>0.3</td>\n",
              "    </tr>\n",
              "    <tr>\n",
              "      <th>37844</th>\n",
              "      <td>0.6</td>\n",
              "    </tr>\n",
              "    <tr>\n",
              "      <th>31454</th>\n",
              "      <td>0.4</td>\n",
              "    </tr>\n",
              "    <tr>\n",
              "      <th>39607</th>\n",
              "      <td>0.6</td>\n",
              "    </tr>\n",
              "    <tr>\n",
              "      <th>39245</th>\n",
              "      <td>0.6</td>\n",
              "    </tr>\n",
              "  </tbody>\n",
              "</table>\n",
              "</div>"
            ],
            "text/plain": [
              "        Discount\n",
              "Row ID          \n",
              "34662        0.3\n",
              "37844        0.6\n",
              "31454        0.4\n",
              "39607        0.6\n",
              "39245        0.6"
            ]
          },
          "metadata": {
            "tags": []
          },
          "execution_count": 43
        }
      ]
    },
    {
      "cell_type": "markdown",
      "metadata": {
        "id": "JQ8pjbj2WsHh",
        "colab_type": "text"
      },
      "source": [
        "## Inserting second dataset"
      ]
    },
    {
      "cell_type": "code",
      "metadata": {
        "id": "KwdXXC2LhJmt",
        "colab_type": "code",
        "colab": {
          "resources": {
            "http://localhost:8080/nbextensions/google.colab/files.js": {
              "data": "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",
              "ok": true,
              "headers": [
                [
                  "content-type",
                  "application/javascript"
                ]
              ],
              "status": 200,
              "status_text": ""
            }
          },
          "base_uri": "https://localhost:8080/",
          "height": 72
        },
        "outputId": "73eccc99-05cb-4962-99fc-9fe36df34c61"
      },
      "source": [
        "from google.colab import files\n",
        "uploaded2= files.upload()"
      ],
      "execution_count": 2,
      "outputs": [
        {
          "output_type": "display_data",
          "data": {
            "text/html": [
              "\n",
              "     <input type=\"file\" id=\"files-40bc452a-72c3-4078-81fc-5923e4dbaedb\" name=\"files[]\" multiple disabled\n",
              "        style=\"border:none\" />\n",
              "     <output id=\"result-40bc452a-72c3-4078-81fc-5923e4dbaedb\">\n",
              "      Upload widget is only available when the cell has been executed in the\n",
              "      current browser session. Please rerun this cell to enable.\n",
              "      </output>\n",
              "      <script src=\"/nbextensions/google.colab/files.js\"></script> "
            ],
            "text/plain": [
              "<IPython.core.display.HTML object>"
            ]
          },
          "metadata": {
            "tags": []
          }
        },
        {
          "output_type": "stream",
          "text": [
            "Saving sales_data_sample.csv to sales_data_sample.csv\n"
          ],
          "name": "stdout"
        }
      ]
    },
    {
      "cell_type": "code",
      "metadata": {
        "id": "EXog1Jy7W-ur",
        "colab_type": "code",
        "colab": {}
      },
      "source": [
        "df2 = pd.read_csv('sales_data_sample.csv', encoding = 'unicode_escape')"
      ],
      "execution_count": 3,
      "outputs": []
    },
    {
      "cell_type": "code",
      "metadata": {
        "id": "i_U8g0VVXj4I",
        "colab_type": "code",
        "colab": {}
      },
      "source": [
        "df2.describe(include='all')"
      ],
      "execution_count": null,
      "outputs": []
    },
    {
      "cell_type": "code",
      "metadata": {
        "id": "e9GaWjPaf-Pi",
        "colab_type": "code",
        "colab": {
          "base_uri": "https://localhost:8080/",
          "height": 34
        },
        "outputId": "cc590612-74ee-47da-81c7-524ac713879d"
      },
      "source": [
        "len(df2)"
      ],
      "execution_count": 13,
      "outputs": [
        {
          "output_type": "execute_result",
          "data": {
            "text/plain": [
              "2823"
            ]
          },
          "metadata": {
            "tags": []
          },
          "execution_count": 13
        }
      ]
    },
    {
      "cell_type": "code",
      "metadata": {
        "id": "I4AX7fRfXxCj",
        "colab_type": "code",
        "colab": {
          "base_uri": "https://localhost:8080/",
          "height": 561
        },
        "outputId": "a94c2b24-045d-4250-9ab2-10a185b5c8f5"
      },
      "source": [
        "df2.info()"
      ],
      "execution_count": 6,
      "outputs": [
        {
          "output_type": "stream",
          "text": [
            "<class 'pandas.core.frame.DataFrame'>\n",
            "RangeIndex: 2823 entries, 0 to 2822\n",
            "Data columns (total 25 columns):\n",
            " #   Column            Non-Null Count  Dtype  \n",
            "---  ------            --------------  -----  \n",
            " 0   ORDERNUMBER       2823 non-null   int64  \n",
            " 1   QUANTITYORDERED   2823 non-null   int64  \n",
            " 2   PRICEEACH         2823 non-null   float64\n",
            " 3   ORDERLINENUMBER   2823 non-null   int64  \n",
            " 4   SALES             2823 non-null   float64\n",
            " 5   ORDERDATE         2823 non-null   object \n",
            " 6   STATUS            2823 non-null   object \n",
            " 7   QTR_ID            2823 non-null   int64  \n",
            " 8   MONTH_ID          2823 non-null   int64  \n",
            " 9   YEAR_ID           2823 non-null   int64  \n",
            " 10  PRODUCTLINE       2823 non-null   object \n",
            " 11  MSRP              2823 non-null   int64  \n",
            " 12  PRODUCTCODE       2823 non-null   object \n",
            " 13  CUSTOMERNAME      2823 non-null   object \n",
            " 14  PHONE             2823 non-null   object \n",
            " 15  ADDRESSLINE1      2823 non-null   object \n",
            " 16  ADDRESSLINE2      302 non-null    object \n",
            " 17  CITY              2823 non-null   object \n",
            " 18  STATE             1337 non-null   object \n",
            " 19  POSTALCODE        2747 non-null   object \n",
            " 20  COUNTRY           2823 non-null   object \n",
            " 21  TERRITORY         1749 non-null   object \n",
            " 22  CONTACTLASTNAME   2823 non-null   object \n",
            " 23  CONTACTFIRSTNAME  2823 non-null   object \n",
            " 24  DEALSIZE          2823 non-null   object \n",
            "dtypes: float64(2), int64(7), object(16)\n",
            "memory usage: 551.5+ KB\n"
          ],
          "name": "stdout"
        }
      ]
    },
    {
      "cell_type": "code",
      "metadata": {
        "id": "d1-kAYn7X2ZE",
        "colab_type": "code",
        "colab": {
          "base_uri": "https://localhost:8080/",
          "height": 136
        },
        "outputId": "6c962967-0574-46b6-d64f-54042685f77e"
      },
      "source": [
        "df2['PRODUCTLINE'].unique().tolist()"
      ],
      "execution_count": 7,
      "outputs": [
        {
          "output_type": "execute_result",
          "data": {
            "text/plain": [
              "['Motorcycles',\n",
              " 'Classic Cars',\n",
              " 'Trucks and Buses',\n",
              " 'Vintage Cars',\n",
              " 'Planes',\n",
              " 'Ships',\n",
              " 'Trains']"
            ]
          },
          "metadata": {
            "tags": []
          },
          "execution_count": 7
        }
      ]
    },
    {
      "cell_type": "markdown",
      "metadata": {
        "id": "dFfPH9M3ec9T",
        "colab_type": "text"
      },
      "source": [
        "Generating Random Number Using Numpy and then plot those number using matplotlib "
      ]
    },
    {
      "cell_type": "code",
      "metadata": {
        "id": "sAuugG51YjCn",
        "colab_type": "code",
        "colab": {}
      },
      "source": [
        "x = np.linspace(0, 10, 500)\n",
        "y = np.cumsum(np.random.randn(500, 6), 0)"
      ],
      "execution_count": 8,
      "outputs": []
    },
    {
      "cell_type": "code",
      "metadata": {
        "id": "P0o1VbwZX99_",
        "colab_type": "code",
        "colab": {
          "base_uri": "https://localhost:8080/",
          "height": 34
        },
        "outputId": "4cc31431-4f03-46ea-fdab-81aeb098a9cb"
      },
      "source": [
        "# len(y)\n",
        "type(x)"
      ],
      "execution_count": 9,
      "outputs": [
        {
          "output_type": "execute_result",
          "data": {
            "text/plain": [
              "numpy.ndarray"
            ]
          },
          "metadata": {
            "tags": []
          },
          "execution_count": 9
        }
      ]
    },
    {
      "cell_type": "code",
      "metadata": {
        "id": "_jUr0EpJX-wd",
        "colab_type": "code",
        "colab": {
          "base_uri": "https://localhost:8080/",
          "height": 34
        },
        "outputId": "3975f7bc-1e9a-4ad9-df39-af07121e1f42"
      },
      "source": [
        "len(x)"
      ],
      "execution_count": 10,
      "outputs": [
        {
          "output_type": "execute_result",
          "data": {
            "text/plain": [
              "500"
            ]
          },
          "metadata": {
            "tags": []
          },
          "execution_count": 10
        }
      ]
    },
    {
      "cell_type": "markdown",
      "metadata": {
        "id": "6DM1QhEHfnqf",
        "colab_type": "text"
      },
      "source": [
        "Ploting those Random Number"
      ]
    },
    {
      "cell_type": "code",
      "metadata": {
        "id": "9p00OHkzavku",
        "colab_type": "code",
        "colab": {
          "base_uri": "https://localhost:8080/",
          "height": 500
        },
        "outputId": "4410d882-60bf-41b6-de82-c48f7d82fb20"
      },
      "source": [
        "plt.figure(figsize=(16,8))\n",
        "plt.plot(x, y)\n",
        "plt.grid()\n",
        "plt.legend('ABCDEF', ncol=2, loc='upper left')"
      ],
      "execution_count": 11,
      "outputs": [
        {
          "output_type": "execute_result",
          "data": {
            "text/plain": [
              "<matplotlib.legend.Legend at 0x7f91699e3b00>"
            ]
          },
          "metadata": {
            "tags": []
          },
          "execution_count": 11
        },
        {
          "output_type": "display_data",
          "data": {
            "image/png": "[encoded data removed]",
            "text/plain": [
              "<Figure size 1152x576 with 1 Axes>"
            ]
          },
          "metadata": {
            "tags": [],
            "needs_background": "light"
          }
        }
      ]
    },
    {
      "cell_type": "code",
      "metadata": {
        "id": "_Tw5jA7BbHaY",
        "colab_type": "code",
        "colab": {
          "base_uri": "https://localhost:8080/",
          "height": 328
        },
        "outputId": "9e03cf9c-051c-45f0-a928-037c20d75c0a"
      },
      "source": [
        "cov = df2.corr()\n",
        "cov"
      ],
      "execution_count": 12,
      "outputs": [
        {
          "output_type": "execute_result",
          "data": {
            "text/html": [
              "<div>\n",
              "<style scoped>\n",
              "    .dataframe tbody tr th:only-of-type {\n",
              "        vertical-align: middle;\n",
              "    }\n",
              "\n",
              "    .dataframe tbody tr th {\n",
              "        vertical-align: top;\n",
              "    }\n",
              "\n",
              "    .dataframe thead th {\n",
              "        text-align: right;\n",
              "    }\n",
              "</style>\n",
              "<table border=\"1\" class=\"dataframe\">\n",
              "  <thead>\n",
              "    <tr style=\"text-align: right;\">\n",
              "      <th></th>\n",
              "      <th>ORDERNUMBER</th>\n",
              "      <th>QUANTITYORDERED</th>\n",
              "      <th>PRICEEACH</th>\n",
              "      <th>ORDERLINENUMBER</th>\n",
              "      <th>SALES</th>\n",
              "      <th>QTR_ID</th>\n",
              "      <th>MONTH_ID</th>\n",
              "      <th>YEAR_ID</th>\n",
              "      <th>MSRP</th>\n",
              "    </tr>\n",
              "  </thead>\n",
              "  <tbody>\n",
              "    <tr>\n",
              "      <th>ORDERNUMBER</th>\n",
              "      <td>1.000000</td>\n",
              "      <td>0.065543</td>\n",
              "      <td>-0.002935</td>\n",
              "      <td>-0.055550</td>\n",
              "      <td>0.039919</td>\n",
              "      <td>-0.051383</td>\n",
              "      <td>-0.039723</td>\n",
              "      <td>0.904596</td>\n",
              "      <td>-0.010280</td>\n",
              "    </tr>\n",
              "    <tr>\n",
              "      <th>QUANTITYORDERED</th>\n",
              "      <td>0.065543</td>\n",
              "      <td>1.000000</td>\n",
              "      <td>0.005564</td>\n",
              "      <td>-0.018397</td>\n",
              "      <td>0.551426</td>\n",
              "      <td>-0.035323</td>\n",
              "      <td>-0.039048</td>\n",
              "      <td>0.069535</td>\n",
              "      <td>0.017881</td>\n",
              "    </tr>\n",
              "    <tr>\n",
              "      <th>PRICEEACH</th>\n",
              "      <td>-0.002935</td>\n",
              "      <td>0.005564</td>\n",
              "      <td>1.000000</td>\n",
              "      <td>-0.020965</td>\n",
              "      <td>0.657841</td>\n",
              "      <td>0.008712</td>\n",
              "      <td>0.005152</td>\n",
              "      <td>-0.005938</td>\n",
              "      <td>0.670625</td>\n",
              "    </tr>\n",
              "    <tr>\n",
              "      <th>ORDERLINENUMBER</th>\n",
              "      <td>-0.055550</td>\n",
              "      <td>-0.018397</td>\n",
              "      <td>-0.020965</td>\n",
              "      <td>1.000000</td>\n",
              "      <td>-0.058400</td>\n",
              "      <td>0.040716</td>\n",
              "      <td>0.034016</td>\n",
              "      <td>-0.057367</td>\n",
              "      <td>-0.021067</td>\n",
              "    </tr>\n",
              "    <tr>\n",
              "      <th>SALES</th>\n",
              "      <td>0.039919</td>\n",
              "      <td>0.551426</td>\n",
              "      <td>0.657841</td>\n",
              "      <td>-0.058400</td>\n",
              "      <td>1.000000</td>\n",
              "      <td>-0.006796</td>\n",
              "      <td>-0.009605</td>\n",
              "      <td>0.035647</td>\n",
              "      <td>0.635239</td>\n",
              "    </tr>\n",
              "    <tr>\n",
              "      <th>QTR_ID</th>\n",
              "      <td>-0.051383</td>\n",
              "      <td>-0.035323</td>\n",
              "      <td>0.008712</td>\n",
              "      <td>0.040716</td>\n",
              "      <td>-0.006796</td>\n",
              "      <td>1.000000</td>\n",
              "      <td>0.979300</td>\n",
              "      <td>-0.433052</td>\n",
              "      <td>0.010234</td>\n",
              "    </tr>\n",
              "    <tr>\n",
              "      <th>MONTH_ID</th>\n",
              "      <td>-0.039723</td>\n",
              "      <td>-0.039048</td>\n",
              "      <td>0.005152</td>\n",
              "      <td>0.034016</td>\n",
              "      <td>-0.009605</td>\n",
              "      <td>0.979300</td>\n",
              "      <td>1.000000</td>\n",
              "      <td>-0.430163</td>\n",
              "      <td>0.008170</td>\n",
              "    </tr>\n",
              "    <tr>\n",
              "      <th>YEAR_ID</th>\n",
              "      <td>0.904596</td>\n",
              "      <td>0.069535</td>\n",
              "      <td>-0.005938</td>\n",
              "      <td>-0.057367</td>\n",
              "      <td>0.035647</td>\n",
              "      <td>-0.433052</td>\n",
              "      <td>-0.430163</td>\n",
              "      <td>1.000000</td>\n",
              "      <td>-0.014310</td>\n",
              "    </tr>\n",
              "    <tr>\n",
              "      <th>MSRP</th>\n",
              "      <td>-0.010280</td>\n",
              "      <td>0.017881</td>\n",
              "      <td>0.670625</td>\n",
              "      <td>-0.021067</td>\n",
              "      <td>0.635239</td>\n",
              "      <td>0.010234</td>\n",
              "      <td>0.008170</td>\n",
              "      <td>-0.014310</td>\n",
              "      <td>1.000000</td>\n",
              "    </tr>\n",
              "  </tbody>\n",
              "</table>\n",
              "</div>"
            ],
            "text/plain": [
              "                 ORDERNUMBER  QUANTITYORDERED  ...   YEAR_ID      MSRP\n",
              "ORDERNUMBER         1.000000         0.065543  ...  0.904596 -0.010280\n",
              "QUANTITYORDERED     0.065543         1.000000  ...  0.069535  0.017881\n",
              "PRICEEACH          -0.002935         0.005564  ... -0.005938  0.670625\n",
              "ORDERLINENUMBER    -0.055550        -0.018397  ... -0.057367 -0.021067\n",
              "SALES               0.039919         0.551426  ...  0.035647  0.635239\n",
              "QTR_ID             -0.051383        -0.035323  ... -0.433052  0.010234\n",
              "MONTH_ID           -0.039723        -0.039048  ... -0.430163  0.008170\n",
              "YEAR_ID             0.904596         0.069535  ...  1.000000 -0.014310\n",
              "MSRP               -0.010280         0.017881  ... -0.014310  1.000000\n",
              "\n",
              "[9 rows x 9 columns]"
            ]
          },
          "metadata": {
            "tags": []
          },
          "execution_count": 12
        }
      ]
    },
    {
      "cell_type": "code",
      "metadata": {
        "id": "B8J4AhJbXO0l",
        "colab_type": "code",
        "colab": {
          "base_uri": "https://localhost:8080/",
          "height": 117
        },
        "outputId": "acf6f2d5-d951-4960-b5d9-ad930253f765"
      },
      "source": [
        "df2.tail(1)"
      ],
      "execution_count": 16,
      "outputs": [
        {
          "output_type": "execute_result",
          "data": {
            "text/html": [
              "<div>\n",
              "<style scoped>\n",
              "    .dataframe tbody tr th:only-of-type {\n",
              "        vertical-align: middle;\n",
              "    }\n",
              "\n",
              "    .dataframe tbody tr th {\n",
              "        vertical-align: top;\n",
              "    }\n",
              "\n",
              "    .dataframe thead th {\n",
              "        text-align: right;\n",
              "    }\n",
              "</style>\n",
              "<table border=\"1\" class=\"dataframe\">\n",
              "  <thead>\n",
              "    <tr style=\"text-align: right;\">\n",
              "      <th></th>\n",
              "      <th>ORDERNUMBER</th>\n",
              "      <th>QUANTITYORDERED</th>\n",
              "      <th>PRICEEACH</th>\n",
              "      <th>ORDERLINENUMBER</th>\n",
              "      <th>SALES</th>\n",
              "      <th>ORDERDATE</th>\n",
              "      <th>STATUS</th>\n",
              "      <th>QTR_ID</th>\n",
              "      <th>MONTH_ID</th>\n",
              "      <th>YEAR_ID</th>\n",
              "      <th>PRODUCTLINE</th>\n",
              "      <th>MSRP</th>\n",
              "      <th>PRODUCTCODE</th>\n",
              "      <th>CUSTOMERNAME</th>\n",
              "      <th>PHONE</th>\n",
              "      <th>ADDRESSLINE1</th>\n",
              "      <th>ADDRESSLINE2</th>\n",
              "      <th>CITY</th>\n",
              "      <th>STATE</th>\n",
              "      <th>POSTALCODE</th>\n",
              "      <th>COUNTRY</th>\n",
              "      <th>TERRITORY</th>\n",
              "      <th>CONTACTLASTNAME</th>\n",
              "      <th>CONTACTFIRSTNAME</th>\n",
              "      <th>DEALSIZE</th>\n",
              "    </tr>\n",
              "  </thead>\n",
              "  <tbody>\n",
              "    <tr>\n",
              "      <th>2822</th>\n",
              "      <td>10414</td>\n",
              "      <td>47</td>\n",
              "      <td>65.52</td>\n",
              "      <td>9</td>\n",
              "      <td>3079.44</td>\n",
              "      <td>5/6/2005 0:00</td>\n",
              "      <td>On Hold</td>\n",
              "      <td>2</td>\n",
              "      <td>5</td>\n",
              "      <td>2005</td>\n",
              "      <td>Ships</td>\n",
              "      <td>54</td>\n",
              "      <td>S72_3212</td>\n",
              "      <td>Gifts4AllAges.com</td>\n",
              "      <td>6175559555</td>\n",
              "      <td>8616 Spinnaker Dr.</td>\n",
              "      <td>NaN</td>\n",
              "      <td>Boston</td>\n",
              "      <td>MA</td>\n",
              "      <td>51003</td>\n",
              "      <td>USA</td>\n",
              "      <td>NaN</td>\n",
              "      <td>Yoshido</td>\n",
              "      <td>Juri</td>\n",
              "      <td>Medium</td>\n",
              "    </tr>\n",
              "  </tbody>\n",
              "</table>\n",
              "</div>"
            ],
            "text/plain": [
              "      ORDERNUMBER  QUANTITYORDERED  ...  CONTACTFIRSTNAME  DEALSIZE\n",
              "2822        10414               47  ...              Juri    Medium\n",
              "\n",
              "[1 rows x 25 columns]"
            ]
          },
          "metadata": {
            "tags": []
          },
          "execution_count": 16
        }
      ]
    },
    {
      "cell_type": "markdown",
      "metadata": {
        "id": "7c4tYbD-gLdt",
        "colab_type": "text"
      },
      "source": [
        "Inserting Data using pandas loc attributes\n",
        "#### length of df2 is 2823, 0 to 2822\n",
        "every colum in dataframe represents aseries object which is one dimentional array"
      ]
    },
    {
      "cell_type": "code",
      "metadata": {
        "id": "9KYWLqM7ybul",
        "colab_type": "code",
        "colab": {
          "base_uri": "https://localhost:8080/",
          "height": 146
        },
        "outputId": "81b5d5f7-c636-4918-ddd2-73a1a881ca4d"
      },
      "source": [
        "df2.loc[2823] = [00111,\t49,\t101.00,\t014,\t52005.27,\t'',\t'Shipped',\t4,\t10,\t2003,\t'Motorcycles',\t95,\t'S10_1678',\t'Corporate Gift Ideas CA',\t'6505551386',\t'7734 Strong St.',\t'',\t'San Francisco\tCA',\t'',\t'USA',\t'',\t'Abid', 'Shafekul',\t'Medium']"
      ],
      "execution_count": 22,
      "outputs": [
        {
          "output_type": "error",
          "ename": "SyntaxError",
          "evalue": "ignored",
          "traceback": [
            "\u001b[0;36m  File \u001b[0;32m\"<ipython-input-22-eb4274f4c858>\"\u001b[0;36m, line \u001b[0;32m1\u001b[0m\n\u001b[0;31m    df2.loc[2823] = [0000111,\t49,\t101.00,\t014,\t52005.27,\t'',\t'Shipped',\t4,\t10,\t2003,\t'Motorcycles',\t95,\t'S10_1678',\t'Corporate Gift Ideas Co',\t'6505551386',\t'7734 Strong St.',\t'',\t'San Francisco\tCA',\t'',\t'USA',\t'',\t'Abid', 'Shafekul',\t'Medium']\u001b[0m\n\u001b[0m                           ^\u001b[0m\n\u001b[0;31mSyntaxError\u001b[0m\u001b[0;31m:\u001b[0m invalid token\n"
          ]
        }
      ]
    },
    {
      "cell_type": "code",
      "metadata": {
        "id": "kiliW-_Mhcye",
        "colab_type": "code",
        "colab": {}
      },
      "source": [
        ""
      ],
      "execution_count": null,
      "outputs": []
    }
  ]
}