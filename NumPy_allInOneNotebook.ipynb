{
  "nbformat": 4,
  "nbformat_minor": 0,
  "metadata": {
    "colab": {
      "name": "NumPy-allInOneNotebook.ipynb",
      "provenance": [],
      "authorship_tag": "ABX9TyO4Z0v8RRukEDt0wX5y+2I5",
      "include_colab_link": true
    },
    "kernelspec": {
      "name": "python3",
      "display_name": "Python 3"
    },
    "language_info": {
      "name": "python"
    }
  },
  "cells": [
    {
      "cell_type": "markdown",
      "metadata": {
        "id": "view-in-github",
        "colab_type": "text"
      },
      "source": [
        "<a href=\"https://colab.research.google.com/github/abidshafee/dataAnalysis/blob/master/NumPy_allInOneNotebook.ipynb\" target=\"_parent\"><img src=\"https://colab.research.google.com/assets/colab-badge.svg\" alt=\"Open In Colab\"/></a>"
      ]
    },
    {
      "cell_type": "code",
      "metadata": {
        "id": "xsSE7kMwqgit"
      },
      "source": [
        "import numpy as np"
      ],
      "execution_count": 1,
      "outputs": []
    },
    {
      "cell_type": "markdown",
      "metadata": {
        "id": "zseEZltbrHrK"
      },
      "source": [
        "### **Initializing Array**"
      ]
    },
    {
      "cell_type": "code",
      "metadata": {
        "colab": {
          "base_uri": "https://localhost:8080/"
        },
        "id": "qODHrPEYqz9P",
        "outputId": "332f5640-40de-4052-918d-b20c9e8e45db"
      },
      "source": [
        "# 1D array\n",
        "list = [1, 2, 3, 5]\n",
        "np_array = np.array(list)\n",
        "print(np_array)"
      ],
      "execution_count": 3,
      "outputs": [
        {
          "output_type": "stream",
          "text": [
            "[1 2 3 5]\n"
          ],
          "name": "stdout"
        }
      ]
    },
    {
      "cell_type": "code",
      "metadata": {
        "colab": {
          "base_uri": "https://localhost:8080/"
        },
        "id": "Fh_jBT8Prd2F",
        "outputId": "96083fad-657e-4d6e-b045-303ca55a3050"
      },
      "source": [
        "# 2D array\n",
        "np_array2d = np.array([[1, 2, 3, 4], [3, 2, 7, 9]])\n",
        "print(np_array2d)"
      ],
      "execution_count": 4,
      "outputs": [
        {
          "output_type": "stream",
          "text": [
            "[[1 2 3 4]\n",
            " [3 2 7 9]]\n"
          ],
          "name": "stdout"
        }
      ]
    },
    {
      "cell_type": "code",
      "metadata": {
        "id": "ugAHXCwTr6Jt"
      },
      "source": [
        ""
      ],
      "execution_count": null,
      "outputs": []
    }
  ]
}