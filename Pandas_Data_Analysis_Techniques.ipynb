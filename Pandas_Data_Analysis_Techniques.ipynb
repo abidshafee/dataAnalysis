{
  "nbformat": 4,
  "nbformat_minor": 0,
  "metadata": {
    "colab": {
      "name": "Pandas Data Analysis Techniques.ipynb",
      "provenance": [],
      "collapsed_sections": [],
      "authorship_tag": "ABX9TyMmghY1UpYu++Kl8WSRVel1",
      "include_colab_link": true
    },
    "kernelspec": {
      "name": "python3",
      "display_name": "Python 3"
    },
    "language_info": {
      "name": "python"
    }
  },
  "cells": [
    {
      "cell_type": "markdown",
      "metadata": {
        "id": "view-in-github",
        "colab_type": "text"
      },
      "source": [
        "<a href=\"https://colab.research.google.com/github/abidshafee/dataAnalysis/blob/master/Pandas_Data_Analysis_Techniques.ipynb\" target=\"_parent\"><img src=\"https://colab.research.google.com/assets/colab-badge.svg\" alt=\"Open In Colab\"/></a>"
      ]
    },
    {
      "cell_type": "code",
      "metadata": {
        "id": "1lmezuu4lLGW"
      },
      "source": [
        "import pandas as pd"
      ],
      "execution_count": 1,
      "outputs": []
    },
    {
      "cell_type": "code",
      "metadata": {
        "colab": {
          "base_uri": "https://localhost:8080/"
        },
        "id": "5Nr6XJ0lla9N",
        "outputId": "86c4c3e3-a695-4365-8952-dc327861f8b8"
      },
      "source": [
        "from google.colab import drive\n",
        "drive.mount('gdrive')"
      ],
      "execution_count": 2,
      "outputs": [
        {
          "output_type": "stream",
          "text": [
            "Mounted at gdrive\n"
          ],
          "name": "stdout"
        }
      ]
    },
    {
      "cell_type": "markdown",
      "metadata": {
        "id": "UsSkdJ3blp3a"
      },
      "source": [
        "Creating IMDB movies dataframe"
      ]
    },
    {
      "cell_type": "code",
      "metadata": {
        "colab": {
          "base_uri": "https://localhost:8080/"
        },
        "id": "aQh-MEORlcCv",
        "outputId": "933c840a-4340-4718-bc68-398544edcadf"
      },
      "source": [
        "df = pd.read_csv('/content/gdrive/MyDrive/CSV_Datas-DataScience/IMDb_movies.csv')"
      ],
      "execution_count": 3,
      "outputs": [
        {
          "output_type": "stream",
          "text": [
            "/usr/local/lib/python3.7/dist-packages/IPython/core/interactiveshell.py:2718: DtypeWarning: Columns (3) have mixed types.Specify dtype option on import or set low_memory=False.\n",
            "  interactivity=interactivity, compiler=compiler, result=result)\n"
          ],
          "name": "stderr"
        }
      ]
    },
    {
      "cell_type": "code",
      "metadata": {
        "colab": {
          "base_uri": "https://localhost:8080/",
          "height": 666
        },
        "id": "NeM4YEsQl6Tj",
        "outputId": "27cd57b6-c6f2-46a4-a6ef-4102d2aaf1da"
      },
      "source": [
        "df.head()"
      ],
      "execution_count": 4,
      "outputs": [
        {
          "output_type": "execute_result",
          "data": {
            "text/html": [
              "<div>\n",
              "<style scoped>\n",
              "    .dataframe tbody tr th:only-of-type {\n",
              "        vertical-align: middle;\n",
              "    }\n",
              "\n",
              "    .dataframe tbody tr th {\n",
              "        vertical-align: top;\n",
              "    }\n",
              "\n",
              "    .dataframe thead th {\n",
              "        text-align: right;\n",
              "    }\n",
              "</style>\n",
              "<table border=\"1\" class=\"dataframe\">\n",
              "  <thead>\n",
              "    <tr style=\"text-align: right;\">\n",
              "      <th></th>\n",
              "      <th>imdb_title_id</th>\n",
              "      <th>title</th>\n",
              "      <th>original_title</th>\n",
              "      <th>year</th>\n",
              "      <th>date_published</th>\n",
              "      <th>genre</th>\n",
              "      <th>duration</th>\n",
              "      <th>country</th>\n",
              "      <th>language</th>\n",
              "      <th>director</th>\n",
              "      <th>writer</th>\n",
              "      <th>production_company</th>\n",
              "      <th>actors</th>\n",
              "      <th>description</th>\n",
              "      <th>avg_vote</th>\n",
              "      <th>votes</th>\n",
              "      <th>budget</th>\n",
              "      <th>usa_gross_income</th>\n",
              "      <th>worlwide_gross_income</th>\n",
              "      <th>metascore</th>\n",
              "      <th>reviews_from_users</th>\n",
              "      <th>reviews_from_critics</th>\n",
              "    </tr>\n",
              "  </thead>\n",
              "  <tbody>\n",
              "    <tr>\n",
              "      <th>0</th>\n",
              "      <td>tt0000009</td>\n",
              "      <td>Miss Jerry</td>\n",
              "      <td>Miss Jerry</td>\n",
              "      <td>1894</td>\n",
              "      <td>1894-10-09</td>\n",
              "      <td>Romance</td>\n",
              "      <td>45</td>\n",
              "      <td>USA</td>\n",
              "      <td>None</td>\n",
              "      <td>Alexander Black</td>\n",
              "      <td>Alexander Black</td>\n",
              "      <td>Alexander Black Photoplays</td>\n",
              "      <td>Blanche Bayliss, William Courtenay, Chauncey D...</td>\n",
              "      <td>The adventures of a female reporter in the 1890s.</td>\n",
              "      <td>5.9</td>\n",
              "      <td>154</td>\n",
              "      <td>NaN</td>\n",
              "      <td>NaN</td>\n",
              "      <td>NaN</td>\n",
              "      <td>NaN</td>\n",
              "      <td>1.0</td>\n",
              "      <td>2.0</td>\n",
              "    </tr>\n",
              "    <tr>\n",
              "      <th>1</th>\n",
              "      <td>tt0000574</td>\n",
              "      <td>The Story of the Kelly Gang</td>\n",
              "      <td>The Story of the Kelly Gang</td>\n",
              "      <td>1906</td>\n",
              "      <td>1906-12-26</td>\n",
              "      <td>Biography, Crime, Drama</td>\n",
              "      <td>70</td>\n",
              "      <td>Australia</td>\n",
              "      <td>None</td>\n",
              "      <td>Charles Tait</td>\n",
              "      <td>Charles Tait</td>\n",
              "      <td>J. and N. Tait</td>\n",
              "      <td>Elizabeth Tait, John Tait, Norman Campbell, Be...</td>\n",
              "      <td>True story of notorious Australian outlaw Ned ...</td>\n",
              "      <td>6.1</td>\n",
              "      <td>589</td>\n",
              "      <td>$ 2250</td>\n",
              "      <td>NaN</td>\n",
              "      <td>NaN</td>\n",
              "      <td>NaN</td>\n",
              "      <td>7.0</td>\n",
              "      <td>7.0</td>\n",
              "    </tr>\n",
              "    <tr>\n",
              "      <th>2</th>\n",
              "      <td>tt0001892</td>\n",
              "      <td>Den sorte drøm</td>\n",
              "      <td>Den sorte drøm</td>\n",
              "      <td>1911</td>\n",
              "      <td>1911-08-19</td>\n",
              "      <td>Drama</td>\n",
              "      <td>53</td>\n",
              "      <td>Germany, Denmark</td>\n",
              "      <td>NaN</td>\n",
              "      <td>Urban Gad</td>\n",
              "      <td>Urban Gad, Gebhard Schätzler-Perasini</td>\n",
              "      <td>Fotorama</td>\n",
              "      <td>Asta Nielsen, Valdemar Psilander, Gunnar Helse...</td>\n",
              "      <td>Two men of high rank are both wooing the beaut...</td>\n",
              "      <td>5.8</td>\n",
              "      <td>188</td>\n",
              "      <td>NaN</td>\n",
              "      <td>NaN</td>\n",
              "      <td>NaN</td>\n",
              "      <td>NaN</td>\n",
              "      <td>5.0</td>\n",
              "      <td>2.0</td>\n",
              "    </tr>\n",
              "    <tr>\n",
              "      <th>3</th>\n",
              "      <td>tt0002101</td>\n",
              "      <td>Cleopatra</td>\n",
              "      <td>Cleopatra</td>\n",
              "      <td>1912</td>\n",
              "      <td>1912-11-13</td>\n",
              "      <td>Drama, History</td>\n",
              "      <td>100</td>\n",
              "      <td>USA</td>\n",
              "      <td>English</td>\n",
              "      <td>Charles L. Gaskill</td>\n",
              "      <td>Victorien Sardou</td>\n",
              "      <td>Helen Gardner Picture Players</td>\n",
              "      <td>Helen Gardner, Pearl Sindelar, Miss Fielding, ...</td>\n",
              "      <td>The fabled queen of Egypt's affair with Roman ...</td>\n",
              "      <td>5.2</td>\n",
              "      <td>446</td>\n",
              "      <td>$ 45000</td>\n",
              "      <td>NaN</td>\n",
              "      <td>NaN</td>\n",
              "      <td>NaN</td>\n",
              "      <td>25.0</td>\n",
              "      <td>3.0</td>\n",
              "    </tr>\n",
              "    <tr>\n",
              "      <th>4</th>\n",
              "      <td>tt0002130</td>\n",
              "      <td>L'Inferno</td>\n",
              "      <td>L'Inferno</td>\n",
              "      <td>1911</td>\n",
              "      <td>1911-03-06</td>\n",
              "      <td>Adventure, Drama, Fantasy</td>\n",
              "      <td>68</td>\n",
              "      <td>Italy</td>\n",
              "      <td>Italian</td>\n",
              "      <td>Francesco Bertolini, Adolfo Padovan</td>\n",
              "      <td>Dante Alighieri</td>\n",
              "      <td>Milano Film</td>\n",
              "      <td>Salvatore Papa, Arturo Pirovano, Giuseppe de L...</td>\n",
              "      <td>Loosely adapted from Dante's Divine Comedy and...</td>\n",
              "      <td>7.0</td>\n",
              "      <td>2237</td>\n",
              "      <td>NaN</td>\n",
              "      <td>NaN</td>\n",
              "      <td>NaN</td>\n",
              "      <td>NaN</td>\n",
              "      <td>31.0</td>\n",
              "      <td>14.0</td>\n",
              "    </tr>\n",
              "  </tbody>\n",
              "</table>\n",
              "</div>"
            ],
            "text/plain": [
              "  imdb_title_id  ... reviews_from_critics\n",
              "0     tt0000009  ...                  2.0\n",
              "1     tt0000574  ...                  7.0\n",
              "2     tt0001892  ...                  2.0\n",
              "3     tt0002101  ...                  3.0\n",
              "4     tt0002130  ...                 14.0\n",
              "\n",
              "[5 rows x 22 columns]"
            ]
          },
          "metadata": {
            "tags": []
          },
          "execution_count": 4
        }
      ]
    },
    {
      "cell_type": "code",
      "metadata": {
        "id": "G8DrAx9hl-wX"
      },
      "source": [
        ""
      ],
      "execution_count": null,
      "outputs": []
    }
  ]
}