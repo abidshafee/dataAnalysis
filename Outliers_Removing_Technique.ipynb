{
  "nbformat": 4,
  "nbformat_minor": 0,
  "metadata": {
    "colab": {
      "name": "Outliers Removing Technique.ipynb",
      "provenance": [],
      "authorship_tag": "ABX9TyNh7aKL6J+qAHLFjwNNm0Dt",
      "include_colab_link": true
    },
    "kernelspec": {
      "name": "python3",
      "display_name": "Python 3"
    },
    "language_info": {
      "name": "python"
    }
  },
  "cells": [
    {
      "cell_type": "markdown",
      "metadata": {
        "id": "view-in-github",
        "colab_type": "text"
      },
      "source": [
        "<a href=\"https://colab.research.google.com/github/abidshafee/dataAnalysis/blob/master/Outliers_Removing_Technique.ipynb\" target=\"_parent\"><img src=\"https://colab.research.google.com/assets/colab-badge.svg\" alt=\"Open In Colab\"/></a>"
      ]
    },
    {
      "cell_type": "markdown",
      "source": [
        "An Outlier of a dataset defines as a value that is more than 3 standard deviations away from the mean. So removing outliers from a df removes any row in the dataset which contains an outlier. Outlier calculation are performed seperately for each column."
      ],
      "metadata": {
        "id": "WWRKnisPaBhV"
      }
    },
    {
      "cell_type": "code",
      "execution_count": 1,
      "metadata": {
        "id": "RF3uqQTTVV1X"
      },
      "outputs": [],
      "source": [
        "import pandas as pd\n",
        "import numpy as np\n",
        "import seaborn as sns\n",
        "import matplotlib as mpl\n",
        "import matplotlib.pyplot as plt\n",
        "plt.style.use('ggplot')\n",
        "from datetime import datetime"
      ]
    },
    {
      "cell_type": "code",
      "source": [
        "mpl.rcParams['figure.figsize'] = (12, 7)"
      ],
      "metadata": {
        "id": "uC_CVCAJXjIP"
      },
      "execution_count": 2,
      "outputs": []
    },
    {
      "cell_type": "code",
      "source": [
        "df = pd.read_csv(\"https://raw.githubusercontent.com/abidshafee/autoML-tsModel/main/throughput_metrics.csv\", parse_dates=['Time'], index_col='Time')"
      ],
      "metadata": {
        "id": "maaW8s0FWGMp"
      },
      "execution_count": 3,
      "outputs": []
    },
    {
      "cell_type": "code",
      "source": [
        "df.describe(include='all')"
      ],
      "metadata": {
        "colab": {
          "base_uri": "https://localhost:8080/",
          "height": 300
        },
        "id": "WHzBhdwKWNej",
        "outputId": "b6aad989-7e00-4cff-87ed-1db479270da7"
      },
      "execution_count": 4,
      "outputs": [
        {
          "output_type": "execute_result",
          "data": {
            "text/html": [
              "<div>\n",
              "<style scoped>\n",
              "    .dataframe tbody tr th:only-of-type {\n",
              "        vertical-align: middle;\n",
              "    }\n",
              "\n",
              "    .dataframe tbody tr th {\n",
              "        vertical-align: top;\n",
              "    }\n",
              "\n",
              "    .dataframe thead th {\n",
              "        text-align: right;\n",
              "    }\n",
              "</style>\n",
              "<table border=\"1\" class=\"dataframe\">\n",
              "  <thead>\n",
              "    <tr style=\"text-align: right;\">\n",
              "      <th></th>\n",
              "      <th>SiteA</th>\n",
              "      <th>SiteB</th>\n",
              "      <th>SiteC</th>\n",
              "      <th>SiteD</th>\n",
              "      <th>SiteE</th>\n",
              "      <th>SiteF</th>\n",
              "    </tr>\n",
              "  </thead>\n",
              "  <tbody>\n",
              "    <tr>\n",
              "      <th>count</th>\n",
              "      <td>8.760000e+03</td>\n",
              "      <td>8.760000e+03</td>\n",
              "      <td>8.760000e+03</td>\n",
              "      <td>8.760000e+03</td>\n",
              "      <td>8.760000e+03</td>\n",
              "      <td>8.760000e+03</td>\n",
              "    </tr>\n",
              "    <tr>\n",
              "      <th>mean</th>\n",
              "      <td>1.134300e+10</td>\n",
              "      <td>1.050114e+10</td>\n",
              "      <td>2.422851e+07</td>\n",
              "      <td>7.645930e+07</td>\n",
              "      <td>8.169740e+07</td>\n",
              "      <td>1.194613e+06</td>\n",
              "    </tr>\n",
              "    <tr>\n",
              "      <th>std</th>\n",
              "      <td>5.843792e+09</td>\n",
              "      <td>8.509006e+09</td>\n",
              "      <td>3.285736e+07</td>\n",
              "      <td>6.293577e+07</td>\n",
              "      <td>1.297177e+08</td>\n",
              "      <td>8.569518e+05</td>\n",
              "    </tr>\n",
              "    <tr>\n",
              "      <th>min</th>\n",
              "      <td>3.227624e+08</td>\n",
              "      <td>0.000000e+00</td>\n",
              "      <td>1.013134e+04</td>\n",
              "      <td>7.408801e+05</td>\n",
              "      <td>0.000000e+00</td>\n",
              "      <td>3.786450e+05</td>\n",
              "    </tr>\n",
              "    <tr>\n",
              "      <th>25%</th>\n",
              "      <td>7.677623e+09</td>\n",
              "      <td>3.942119e+09</td>\n",
              "      <td>4.546207e+04</td>\n",
              "      <td>2.792179e+07</td>\n",
              "      <td>1.817469e+07</td>\n",
              "      <td>8.628346e+05</td>\n",
              "    </tr>\n",
              "    <tr>\n",
              "      <th>50%</th>\n",
              "      <td>1.002482e+10</td>\n",
              "      <td>8.836137e+09</td>\n",
              "      <td>8.613927e+04</td>\n",
              "      <td>5.725981e+07</td>\n",
              "      <td>5.025162e+07</td>\n",
              "      <td>9.951363e+05</td>\n",
              "    </tr>\n",
              "    <tr>\n",
              "      <th>75%</th>\n",
              "      <td>1.335055e+10</td>\n",
              "      <td>1.452307e+10</td>\n",
              "      <td>4.363564e+07</td>\n",
              "      <td>1.097949e+08</td>\n",
              "      <td>9.435435e+07</td>\n",
              "      <td>1.243718e+06</td>\n",
              "    </tr>\n",
              "    <tr>\n",
              "      <th>max</th>\n",
              "      <td>7.553718e+10</td>\n",
              "      <td>5.229297e+10</td>\n",
              "      <td>2.513275e+08</td>\n",
              "      <td>3.593521e+08</td>\n",
              "      <td>1.578908e+09</td>\n",
              "      <td>2.659389e+07</td>\n",
              "    </tr>\n",
              "  </tbody>\n",
              "</table>\n",
              "</div>"
            ],
            "text/plain": [
              "              SiteA         SiteB  ...         SiteE         SiteF\n",
              "count  8.760000e+03  8.760000e+03  ...  8.760000e+03  8.760000e+03\n",
              "mean   1.134300e+10  1.050114e+10  ...  8.169740e+07  1.194613e+06\n",
              "std    5.843792e+09  8.509006e+09  ...  1.297177e+08  8.569518e+05\n",
              "min    3.227624e+08  0.000000e+00  ...  0.000000e+00  3.786450e+05\n",
              "25%    7.677623e+09  3.942119e+09  ...  1.817469e+07  8.628346e+05\n",
              "50%    1.002482e+10  8.836137e+09  ...  5.025162e+07  9.951363e+05\n",
              "75%    1.335055e+10  1.452307e+10  ...  9.435435e+07  1.243718e+06\n",
              "max    7.553718e+10  5.229297e+10  ...  1.578908e+09  2.659389e+07\n",
              "\n",
              "[8 rows x 6 columns]"
            ]
          },
          "metadata": {},
          "execution_count": 4
        }
      ]
    },
    {
      "cell_type": "code",
      "source": [
        "df.head()"
      ],
      "metadata": {
        "colab": {
          "base_uri": "https://localhost:8080/",
          "height": 238
        },
        "id": "LmIh_lt4WjZh",
        "outputId": "014a640d-497d-4b7e-b008-711b07164016"
      },
      "execution_count": 5,
      "outputs": [
        {
          "output_type": "execute_result",
          "data": {
            "text/html": [
              "<div>\n",
              "<style scoped>\n",
              "    .dataframe tbody tr th:only-of-type {\n",
              "        vertical-align: middle;\n",
              "    }\n",
              "\n",
              "    .dataframe tbody tr th {\n",
              "        vertical-align: top;\n",
              "    }\n",
              "\n",
              "    .dataframe thead th {\n",
              "        text-align: right;\n",
              "    }\n",
              "</style>\n",
              "<table border=\"1\" class=\"dataframe\">\n",
              "  <thead>\n",
              "    <tr style=\"text-align: right;\">\n",
              "      <th></th>\n",
              "      <th>SiteA</th>\n",
              "      <th>SiteB</th>\n",
              "      <th>SiteC</th>\n",
              "      <th>SiteD</th>\n",
              "      <th>SiteE</th>\n",
              "      <th>SiteF</th>\n",
              "    </tr>\n",
              "    <tr>\n",
              "      <th>Time</th>\n",
              "      <th></th>\n",
              "      <th></th>\n",
              "      <th></th>\n",
              "      <th></th>\n",
              "      <th></th>\n",
              "      <th></th>\n",
              "    </tr>\n",
              "  </thead>\n",
              "  <tbody>\n",
              "    <tr>\n",
              "      <th>2018-01-01 08:00:00</th>\n",
              "      <td>1.411093e+10</td>\n",
              "      <td>1.109243e+09</td>\n",
              "      <td>8.289831e+07</td>\n",
              "      <td>56650005.21</td>\n",
              "      <td>1.117868e+07</td>\n",
              "      <td>827420.9772</td>\n",
              "    </tr>\n",
              "    <tr>\n",
              "      <th>2018-01-01 09:00:00</th>\n",
              "      <td>1.345362e+10</td>\n",
              "      <td>1.242256e+09</td>\n",
              "      <td>4.375739e+04</td>\n",
              "      <td>49307351.26</td>\n",
              "      <td>7.070847e+06</td>\n",
              "      <td>913017.6007</td>\n",
              "    </tr>\n",
              "    <tr>\n",
              "      <th>2018-01-01 10:00:00</th>\n",
              "      <td>1.216888e+10</td>\n",
              "      <td>2.006322e+09</td>\n",
              "      <td>4.315725e+04</td>\n",
              "      <td>56843652.59</td>\n",
              "      <td>5.132826e+07</td>\n",
              "      <td>874471.3644</td>\n",
              "    </tr>\n",
              "    <tr>\n",
              "      <th>2018-01-01 11:00:00</th>\n",
              "      <td>1.123120e+10</td>\n",
              "      <td>1.073181e+09</td>\n",
              "      <td>8.277154e+07</td>\n",
              "      <td>46645240.59</td>\n",
              "      <td>5.217827e+06</td>\n",
              "      <td>837246.7783</td>\n",
              "    </tr>\n",
              "    <tr>\n",
              "      <th>2018-01-01 12:00:00</th>\n",
              "      <td>1.078085e+10</td>\n",
              "      <td>8.645069e+08</td>\n",
              "      <td>3.343548e+04</td>\n",
              "      <td>30966947.37</td>\n",
              "      <td>7.495363e+06</td>\n",
              "      <td>827143.7497</td>\n",
              "    </tr>\n",
              "  </tbody>\n",
              "</table>\n",
              "</div>"
            ],
            "text/plain": [
              "                            SiteA         SiteB  ...         SiteE        SiteF\n",
              "Time                                             ...                           \n",
              "2018-01-01 08:00:00  1.411093e+10  1.109243e+09  ...  1.117868e+07  827420.9772\n",
              "2018-01-01 09:00:00  1.345362e+10  1.242256e+09  ...  7.070847e+06  913017.6007\n",
              "2018-01-01 10:00:00  1.216888e+10  2.006322e+09  ...  5.132826e+07  874471.3644\n",
              "2018-01-01 11:00:00  1.123120e+10  1.073181e+09  ...  5.217827e+06  837246.7783\n",
              "2018-01-01 12:00:00  1.078085e+10  8.645069e+08  ...  7.495363e+06  827143.7497\n",
              "\n",
              "[5 rows x 6 columns]"
            ]
          },
          "metadata": {},
          "execution_count": 5
        }
      ]
    },
    {
      "cell_type": "code",
      "source": [
        "df[['SiteF','SiteE','SiteD','SiteC','SiteB','SiteA']].plot(subplots=True)"
      ],
      "metadata": {
        "colab": {
          "base_uri": "https://localhost:8080/",
          "height": 562
        },
        "id": "e9E0ga7gW4Wl",
        "outputId": "86e9c43b-bc04-4626-f0ee-6ae6fd37da45"
      },
      "execution_count": 6,
      "outputs": [
        {
          "output_type": "execute_result",
          "data": {
            "text/plain": [
              "array([<matplotlib.axes._subplots.AxesSubplot object at 0x7f6eddbb02d0>,\n",
              "       <matplotlib.axes._subplots.AxesSubplot object at 0x7f6ec9e72c10>,\n",
              "       <matplotlib.axes._subplots.AxesSubplot object at 0x7f6ec9262750>,\n",
              "       <matplotlib.axes._subplots.AxesSubplot object at 0x7f6ec91405d0>,\n",
              "       <matplotlib.axes._subplots.AxesSubplot object at 0x7f6ec90f7910>,\n",
              "       <matplotlib.axes._subplots.AxesSubplot object at 0x7f6ec90b0c50>],\n",
              "      dtype=object)"
            ]
          },
          "metadata": {},
          "execution_count": 6
        },
        {
          "output_type": "display_data",
          "data": {
            "image/png": "[encoded data removed]",
            "text/plain": [
              "<Figure size 864x504 with 6 Axes>"
            ]
          },
          "metadata": {
            "needs_background": "light"
          }
        }
      ]
    },
    {
      "cell_type": "markdown",
      "source": [
        "## Detecting Outliers"
      ],
      "metadata": {
        "id": "iYnZ3YI6Xs_A"
      }
    },
    {
      "cell_type": "code",
      "source": [
        "sns.boxenplot(df['SiteA'])"
      ],
      "metadata": {
        "colab": {
          "base_uri": "https://localhost:8080/",
          "height": 517
        },
        "id": "0yKgV2NtXa_v",
        "outputId": "31e3460a-11d6-4a4e-87d1-f6ee38ef0ea7"
      },
      "execution_count": 7,
      "outputs": [
        {
          "output_type": "stream",
          "name": "stderr",
          "text": [
            "/usr/local/lib/python3.7/dist-packages/seaborn/_decorators.py:43: FutureWarning: Pass the following variable as a keyword arg: x. From version 0.12, the only valid positional argument will be `data`, and passing other arguments without an explicit keyword will result in an error or misinterpretation.\n",
            "  FutureWarning\n"
          ]
        },
        {
          "output_type": "execute_result",
          "data": {
            "text/plain": [
              "<matplotlib.axes._subplots.AxesSubplot at 0x7f6ec7ababd0>"
            ]
          },
          "metadata": {},
          "execution_count": 7
        },
        {
          "output_type": "display_data",
          "data": {
            "image/png": "[encoded data removed]",
            "text/plain": [
              "<Figure size 864x504 with 1 Axes>"
            ]
          },
          "metadata": {
            "needs_background": "light"
          }
        }
      ]
    },
    {
      "cell_type": "markdown",
      "source": [
        "## Removing Outliers"
      ],
      "metadata": {
        "id": "xhC-mVzfZNwo"
      }
    },
    {
      "cell_type": "code",
      "source": [
        "import scipy.stats as sst"
      ],
      "metadata": {
        "id": "eZy53kxRZc6s"
      },
      "execution_count": 8,
      "outputs": []
    },
    {
      "cell_type": "code",
      "source": [
        "z_score = sst.zscore(df)"
      ],
      "metadata": {
        "id": "POEr_p25YH0E"
      },
      "execution_count": 9,
      "outputs": []
    },
    {
      "cell_type": "code",
      "source": [
        "abs_z_scores = np.abs(z_score)\n",
        "filter_data = (abs_z_scores<3).all(axis=1)\n",
        "ndf = df[filter_data]"
      ],
      "metadata": {
        "id": "IAd9C3dRZenK"
      },
      "execution_count": 10,
      "outputs": []
    },
    {
      "cell_type": "markdown",
      "source": [
        "Because Outlier of a dataset defines as a value that is more than 3 (std) standard deviations away from the mean"
      ],
      "metadata": {
        "id": "qC96fH5_Z8RY"
      }
    },
    {
      "cell_type": "code",
      "source": [
        "ndf.describe(include='all')"
      ],
      "metadata": {
        "colab": {
          "base_uri": "https://localhost:8080/",
          "height": 300
        },
        "id": "SjTOcNawbeBZ",
        "outputId": "8b9c2806-c4ad-47e7-9b07-b159bb8389ce"
      },
      "execution_count": 11,
      "outputs": [
        {
          "output_type": "execute_result",
          "data": {
            "text/html": [
              "<div>\n",
              "<style scoped>\n",
              "    .dataframe tbody tr th:only-of-type {\n",
              "        vertical-align: middle;\n",
              "    }\n",
              "\n",
              "    .dataframe tbody tr th {\n",
              "        vertical-align: top;\n",
              "    }\n",
              "\n",
              "    .dataframe thead th {\n",
              "        text-align: right;\n",
              "    }\n",
              "</style>\n",
              "<table border=\"1\" class=\"dataframe\">\n",
              "  <thead>\n",
              "    <tr style=\"text-align: right;\">\n",
              "      <th></th>\n",
              "      <th>SiteA</th>\n",
              "      <th>SiteB</th>\n",
              "      <th>SiteC</th>\n",
              "      <th>SiteD</th>\n",
              "      <th>SiteE</th>\n",
              "      <th>SiteF</th>\n",
              "    </tr>\n",
              "  </thead>\n",
              "  <tbody>\n",
              "    <tr>\n",
              "      <th>count</th>\n",
              "      <td>8.020000e+03</td>\n",
              "      <td>8.020000e+03</td>\n",
              "      <td>8.020000e+03</td>\n",
              "      <td>8.020000e+03</td>\n",
              "      <td>8.020000e+03</td>\n",
              "      <td>8.020000e+03</td>\n",
              "    </tr>\n",
              "    <tr>\n",
              "      <th>mean</th>\n",
              "      <td>1.089490e+10</td>\n",
              "      <td>1.017486e+10</td>\n",
              "      <td>2.221227e+07</td>\n",
              "      <td>7.463415e+07</td>\n",
              "      <td>6.493073e+07</td>\n",
              "      <td>1.138001e+06</td>\n",
              "    </tr>\n",
              "    <tr>\n",
              "      <th>std</th>\n",
              "      <td>4.677106e+09</td>\n",
              "      <td>7.827163e+09</td>\n",
              "      <td>2.948598e+07</td>\n",
              "      <td>5.944100e+07</td>\n",
              "      <td>6.554482e+07</td>\n",
              "      <td>4.968708e+05</td>\n",
              "    </tr>\n",
              "    <tr>\n",
              "      <th>min</th>\n",
              "      <td>3.227624e+08</td>\n",
              "      <td>0.000000e+00</td>\n",
              "      <td>1.013134e+04</td>\n",
              "      <td>7.408801e+05</td>\n",
              "      <td>0.000000e+00</td>\n",
              "      <td>3.786450e+05</td>\n",
              "    </tr>\n",
              "    <tr>\n",
              "      <th>25%</th>\n",
              "      <td>7.585398e+09</td>\n",
              "      <td>3.924188e+09</td>\n",
              "      <td>4.462231e+04</td>\n",
              "      <td>2.795316e+07</td>\n",
              "      <td>1.805817e+07</td>\n",
              "      <td>8.577731e+05</td>\n",
              "    </tr>\n",
              "    <tr>\n",
              "      <th>50%</th>\n",
              "      <td>9.947878e+09</td>\n",
              "      <td>8.804392e+09</td>\n",
              "      <td>8.309603e+04</td>\n",
              "      <td>5.714333e+07</td>\n",
              "      <td>4.778185e+07</td>\n",
              "      <td>9.873443e+05</td>\n",
              "    </tr>\n",
              "    <tr>\n",
              "      <th>75%</th>\n",
              "      <td>1.309531e+10</td>\n",
              "      <td>1.430653e+10</td>\n",
              "      <td>4.361442e+07</td>\n",
              "      <td>1.074430e+08</td>\n",
              "      <td>8.731451e+07</td>\n",
              "      <td>1.223998e+06</td>\n",
              "    </tr>\n",
              "    <tr>\n",
              "      <th>max</th>\n",
              "      <td>2.886420e+10</td>\n",
              "      <td>3.595057e+10</td>\n",
              "      <td>1.227131e+08</td>\n",
              "      <td>2.628644e+08</td>\n",
              "      <td>4.685181e+08</td>\n",
              "      <td>3.764824e+06</td>\n",
              "    </tr>\n",
              "  </tbody>\n",
              "</table>\n",
              "</div>"
            ],
            "text/plain": [
              "              SiteA         SiteB  ...         SiteE         SiteF\n",
              "count  8.020000e+03  8.020000e+03  ...  8.020000e+03  8.020000e+03\n",
              "mean   1.089490e+10  1.017486e+10  ...  6.493073e+07  1.138001e+06\n",
              "std    4.677106e+09  7.827163e+09  ...  6.554482e+07  4.968708e+05\n",
              "min    3.227624e+08  0.000000e+00  ...  0.000000e+00  3.786450e+05\n",
              "25%    7.585398e+09  3.924188e+09  ...  1.805817e+07  8.577731e+05\n",
              "50%    9.947878e+09  8.804392e+09  ...  4.778185e+07  9.873443e+05\n",
              "75%    1.309531e+10  1.430653e+10  ...  8.731451e+07  1.223998e+06\n",
              "max    2.886420e+10  3.595057e+10  ...  4.685181e+08  3.764824e+06\n",
              "\n",
              "[8 rows x 6 columns]"
            ]
          },
          "metadata": {},
          "execution_count": 11
        }
      ]
    },
    {
      "cell_type": "code",
      "source": [
        "ndf.info()"
      ],
      "metadata": {
        "colab": {
          "base_uri": "https://localhost:8080/"
        },
        "id": "X-EW9fjEbrOQ",
        "outputId": "0a22e1e8-ee2c-42f1-943d-27762cfaf233"
      },
      "execution_count": 12,
      "outputs": [
        {
          "output_type": "stream",
          "name": "stdout",
          "text": [
            "<class 'pandas.core.frame.DataFrame'>\n",
            "DatetimeIndex: 8020 entries, 2018-01-01 08:00:00 to 2019-01-01 07:00:00\n",
            "Data columns (total 6 columns):\n",
            " #   Column  Non-Null Count  Dtype  \n",
            "---  ------  --------------  -----  \n",
            " 0   SiteA   8020 non-null   float64\n",
            " 1   SiteB   8020 non-null   float64\n",
            " 2   SiteC   8020 non-null   float64\n",
            " 3   SiteD   8020 non-null   float64\n",
            " 4   SiteE   8020 non-null   float64\n",
            " 5   SiteF   8020 non-null   float64\n",
            "dtypes: float64(6)\n",
            "memory usage: 438.6 KB\n"
          ]
        }
      ]
    },
    {
      "cell_type": "code",
      "source": [
        "sns.boxenplot(ndf['SiteA'])"
      ],
      "metadata": {
        "colab": {
          "base_uri": "https://localhost:8080/",
          "height": 517
        },
        "id": "QsU27yAzcS0y",
        "outputId": "e4871314-bdcd-4da6-8536-3a45262522e6"
      },
      "execution_count": 13,
      "outputs": [
        {
          "output_type": "stream",
          "name": "stderr",
          "text": [
            "/usr/local/lib/python3.7/dist-packages/seaborn/_decorators.py:43: FutureWarning: Pass the following variable as a keyword arg: x. From version 0.12, the only valid positional argument will be `data`, and passing other arguments without an explicit keyword will result in an error or misinterpretation.\n",
            "  FutureWarning\n"
          ]
        },
        {
          "output_type": "execute_result",
          "data": {
            "text/plain": [
              "<matplotlib.axes._subplots.AxesSubplot at 0x7f6eddbb0290>"
            ]
          },
          "metadata": {},
          "execution_count": 13
        },
        {
          "output_type": "display_data",
          "data": {
            "image/png": "[encoded data removed]",
            "text/plain": [
              "<Figure size 864x504 with 1 Axes>"
            ]
          },
          "metadata": {
            "needs_background": "light"
          }
        }
      ]
    },
    {
      "cell_type": "code",
      "source": [
        "print(df.shape)\n",
        "print(ndf.shape)"
      ],
      "metadata": {
        "colab": {
          "base_uri": "https://localhost:8080/"
        },
        "id": "nEnkJcU0cZPv",
        "outputId": "a47437c7-5cab-453c-839c-f830a5fcf1d6"
      },
      "execution_count": 14,
      "outputs": [
        {
          "output_type": "stream",
          "name": "stdout",
          "text": [
            "(8760, 6)\n",
            "(8020, 6)\n"
          ]
        }
      ]
    },
    {
      "cell_type": "code",
      "source": [
        "n_bins = 25\n",
        "fig, axs = plt.subplots(1, 2, sharey=True, tight_layout=True)\n",
        "\n",
        "# We can set the number of bins with the *bins* keyword argument.\n",
        "axs[0].hist(ndf['SiteA'], bins=n_bins)\n",
        "axs[1].hist(ndf['SiteB'], bins=n_bins)"
      ],
      "metadata": {
        "colab": {
          "base_uri": "https://localhost:8080/",
          "height": 704
        },
        "id": "TMczzscYpztw",
        "outputId": "8aa93d31-15c1-4176-b497-20db1dee0a05"
      },
      "execution_count": 21,
      "outputs": [
        {
          "output_type": "execute_result",
          "data": {
            "text/plain": [
              "(array([814., 714., 654., 603., 570., 589., 583., 551., 511., 444., 374.,\n",
              "        266., 221., 194., 149., 134., 114., 107.,  75.,  78.,  62.,  63.,\n",
              "         67.,  50.,  33.]),\n",
              " array([0.00000000e+00, 1.43802260e+09, 2.87604520e+09, 4.31406780e+09,\n",
              "        5.75209040e+09, 7.19011300e+09, 8.62813560e+09, 1.00661582e+10,\n",
              "        1.15041808e+10, 1.29422034e+10, 1.43802260e+10, 1.58182486e+10,\n",
              "        1.72562712e+10, 1.86942938e+10, 2.01323164e+10, 2.15703390e+10,\n",
              "        2.30083616e+10, 2.44463842e+10, 2.58844068e+10, 2.73224294e+10,\n",
              "        2.87604520e+10, 3.01984746e+10, 3.16364972e+10, 3.30745198e+10,\n",
              "        3.45125424e+10, 3.59505650e+10]),\n",
              " <a list of 25 Patch objects>)"
            ]
          },
          "metadata": {},
          "execution_count": 21
        },
        {
          "output_type": "display_data",
          "data": {
            "image/png": "[encoded data removed]",
            "text/plain": [
              "<Figure size 864x504 with 2 Axes>"
            ]
          },
          "metadata": {
            "needs_background": "light"
          }
        }
      ]
    },
    {
      "cell_type": "code",
      "source": [
        ""
      ],
      "metadata": {
        "id": "KySMIkAQrD6M"
      },
      "execution_count": null,
      "outputs": []
    }
  ]
}